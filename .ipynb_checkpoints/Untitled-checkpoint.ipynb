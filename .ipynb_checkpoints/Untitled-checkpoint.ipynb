{
 "cells": [
  {
   "cell_type": "code",
   "execution_count": 1,
   "metadata": {
    "collapsed": true
   },
   "outputs": [],
   "source": [
    "import pandas as pd\n",
    "import matplotlib.pyplot as plt\n",
    "import math\n",
    "import seaborn as sns\n"
   ]
  },
  {
   "cell_type": "code",
   "execution_count": 2,
   "metadata": {
    "collapsed": true
   },
   "outputs": [],
   "source": [
    "data = pd.read_csv(\"results.csv\")"
   ]
  },
  {
   "cell_type": "code",
   "execution_count": 3,
   "metadata": {
    "scrolled": true
   },
   "outputs": [
    {
     "data": {
      "text/html": [
       "<div>\n",
       "<style>\n",
       "    .dataframe thead tr:only-child th {\n",
       "        text-align: right;\n",
       "    }\n",
       "\n",
       "    .dataframe thead th {\n",
       "        text-align: left;\n",
       "    }\n",
       "\n",
       "    .dataframe tbody tr th {\n",
       "        vertical-align: top;\n",
       "    }\n",
       "</style>\n",
       "<table border=\"1\" class=\"dataframe\">\n",
       "  <thead>\n",
       "    <tr style=\"text-align: right;\">\n",
       "      <th></th>\n",
       "      <th>division</th>\n",
       "      <th>name</th>\n",
       "      <th>city</th>\n",
       "      <th>gender</th>\n",
       "      <th>age</th>\n",
       "      <th>official</th>\n",
       "      <th>bib</th>\n",
       "      <th>overall</th>\n",
       "      <th>state</th>\n",
       "      <th>genderdiv</th>\n",
       "      <th>net</th>\n",
       "      <th>country</th>\n",
       "    </tr>\n",
       "  </thead>\n",
       "  <tbody>\n",
       "    <tr>\n",
       "      <th>0</th>\n",
       "      <td>4        / 26</td>\n",
       "      <td>Soejima, Masazumi</td>\n",
       "      <td>Fukuoka City</td>\n",
       "      <td>M</td>\n",
       "      <td>41</td>\n",
       "      <td>83.45</td>\n",
       "      <td>W1</td>\n",
       "      <td>4        / 35</td>\n",
       "      <td>NaN</td>\n",
       "      <td>4        / 26</td>\n",
       "      <td>83.45</td>\n",
       "      <td>JPN</td>\n",
       "    </tr>\n",
       "    <tr>\n",
       "      <th>1</th>\n",
       "      <td>14       / 4335</td>\n",
       "      <td>Gebremariam, Gebregziabher</td>\n",
       "      <td>Tigray</td>\n",
       "      <td>M</td>\n",
       "      <td>27</td>\n",
       "      <td>142.93</td>\n",
       "      <td>2</td>\n",
       "      <td>14       / 21616</td>\n",
       "      <td>NaN</td>\n",
       "      <td>14       / 12621</td>\n",
       "      <td>142.93</td>\n",
       "      <td>ETH</td>\n",
       "    </tr>\n",
       "    <tr>\n",
       "      <th>2</th>\n",
       "      <td>6        / 26</td>\n",
       "      <td>Van Dyk, Ernst F.</td>\n",
       "      <td>Paarl</td>\n",
       "      <td>M</td>\n",
       "      <td>39</td>\n",
       "      <td>84.38</td>\n",
       "      <td>W2</td>\n",
       "      <td>6        / 35</td>\n",
       "      <td>NaN</td>\n",
       "      <td>6        / 26</td>\n",
       "      <td>84.38</td>\n",
       "      <td>RSA</td>\n",
       "    </tr>\n",
       "    <tr>\n",
       "      <th>3</th>\n",
       "      <td>2        / 26</td>\n",
       "      <td>Fearnley, Kurt H.</td>\n",
       "      <td>Hamilton</td>\n",
       "      <td>M</td>\n",
       "      <td>31</td>\n",
       "      <td>81.65</td>\n",
       "      <td>W3</td>\n",
       "      <td>2        / 35</td>\n",
       "      <td>NaN</td>\n",
       "      <td>2        / 26</td>\n",
       "      <td>81.65</td>\n",
       "      <td>AUS</td>\n",
       "    </tr>\n",
       "    <tr>\n",
       "      <th>4</th>\n",
       "      <td>3        / 26</td>\n",
       "      <td>Hokinoue, Kota</td>\n",
       "      <td>Iizuka</td>\n",
       "      <td>M</td>\n",
       "      <td>38</td>\n",
       "      <td>83.43</td>\n",
       "      <td>W4</td>\n",
       "      <td>3        / 35</td>\n",
       "      <td>NaN</td>\n",
       "      <td>3        / 26</td>\n",
       "      <td>83.43</td>\n",
       "      <td>JPN</td>\n",
       "    </tr>\n",
       "  </tbody>\n",
       "</table>\n",
       "</div>"
      ],
      "text/plain": [
       "          division                        name          city gender  age  \\\n",
       "0    4        / 26           Soejima, Masazumi  Fukuoka City      M   41   \n",
       "1  14       / 4335  Gebremariam, Gebregziabher        Tigray      M   27   \n",
       "2    6        / 26           Van Dyk, Ernst F.         Paarl      M   39   \n",
       "3    2        / 26           Fearnley, Kurt H.      Hamilton      M   31   \n",
       "4    3        / 26              Hokinoue, Kota        Iizuka      M   38   \n",
       "\n",
       "  official bib           overall state         genderdiv     net country  \n",
       "0    83.45  W1     4        / 35   NaN     4        / 26   83.45     JPN  \n",
       "1   142.93   2  14       / 21616   NaN  14       / 12621  142.93     ETH  \n",
       "2    84.38  W2     6        / 35   NaN     6        / 26   84.38     RSA  \n",
       "3    81.65  W3     2        / 35   NaN     2        / 26   81.65     AUS  \n",
       "4    83.43  W4     3        / 35   NaN     3        / 26   83.43     JPN  "
      ]
     },
     "execution_count": 3,
     "metadata": {},
     "output_type": "execute_result"
    }
   ],
   "source": [
    "data.head()"
   ]
  },
  {
   "cell_type": "code",
   "execution_count": 4,
   "metadata": {},
   "outputs": [
    {
     "data": {
      "text/html": [
       "<div>\n",
       "<style>\n",
       "    .dataframe thead tr:only-child th {\n",
       "        text-align: right;\n",
       "    }\n",
       "\n",
       "    .dataframe thead th {\n",
       "        text-align: left;\n",
       "    }\n",
       "\n",
       "    .dataframe tbody tr th {\n",
       "        vertical-align: top;\n",
       "    }\n",
       "</style>\n",
       "<table border=\"1\" class=\"dataframe\">\n",
       "  <thead>\n",
       "    <tr style=\"text-align: right;\">\n",
       "      <th></th>\n",
       "      <th>division</th>\n",
       "      <th>name</th>\n",
       "      <th>city</th>\n",
       "      <th>gender</th>\n",
       "      <th>age</th>\n",
       "      <th>official</th>\n",
       "      <th>bib</th>\n",
       "      <th>overall</th>\n",
       "      <th>state</th>\n",
       "      <th>genderdiv</th>\n",
       "      <th>net</th>\n",
       "      <th>country</th>\n",
       "    </tr>\n",
       "  </thead>\n",
       "  <tbody>\n",
       "    <tr>\n",
       "      <th>count</th>\n",
       "      <td>21652</td>\n",
       "      <td>21652</td>\n",
       "      <td>21652</td>\n",
       "      <td>21652</td>\n",
       "      <td>21652.000000</td>\n",
       "      <td>21652</td>\n",
       "      <td>21652</td>\n",
       "      <td>21652</td>\n",
       "      <td>19880</td>\n",
       "      <td>21652</td>\n",
       "      <td>21652.00000</td>\n",
       "      <td>21652</td>\n",
       "    </tr>\n",
       "    <tr>\n",
       "      <th>unique</th>\n",
       "      <td>21652</td>\n",
       "      <td>21621</td>\n",
       "      <td>4975</td>\n",
       "      <td>2</td>\n",
       "      <td>NaN</td>\n",
       "      <td>9570</td>\n",
       "      <td>21652</td>\n",
       "      <td>21652</td>\n",
       "      <td>67</td>\n",
       "      <td>21652</td>\n",
       "      <td>NaN</td>\n",
       "      <td>60</td>\n",
       "    </tr>\n",
       "    <tr>\n",
       "      <th>top</th>\n",
       "      <td>743      / 1442</td>\n",
       "      <td>Lewis, Shawn</td>\n",
       "      <td>Boston</td>\n",
       "      <td>M</td>\n",
       "      <td>NaN</td>\n",
       "      <td>-</td>\n",
       "      <td>7042</td>\n",
       "      <td>8050     / 21616</td>\n",
       "      <td>MA</td>\n",
       "      <td>11349    / 12621</td>\n",
       "      <td>NaN</td>\n",
       "      <td>USA</td>\n",
       "    </tr>\n",
       "    <tr>\n",
       "      <th>freq</th>\n",
       "      <td>1</td>\n",
       "      <td>2</td>\n",
       "      <td>500</td>\n",
       "      <td>12648</td>\n",
       "      <td>NaN</td>\n",
       "      <td>76</td>\n",
       "      <td>1</td>\n",
       "      <td>1</td>\n",
       "      <td>4030</td>\n",
       "      <td>1</td>\n",
       "      <td>NaN</td>\n",
       "      <td>18064</td>\n",
       "    </tr>\n",
       "    <tr>\n",
       "      <th>mean</th>\n",
       "      <td>NaN</td>\n",
       "      <td>NaN</td>\n",
       "      <td>NaN</td>\n",
       "      <td>NaN</td>\n",
       "      <td>41.836135</td>\n",
       "      <td>NaN</td>\n",
       "      <td>NaN</td>\n",
       "      <td>NaN</td>\n",
       "      <td>NaN</td>\n",
       "      <td>NaN</td>\n",
       "      <td>258.64258</td>\n",
       "      <td>NaN</td>\n",
       "    </tr>\n",
       "    <tr>\n",
       "      <th>std</th>\n",
       "      <td>NaN</td>\n",
       "      <td>NaN</td>\n",
       "      <td>NaN</td>\n",
       "      <td>NaN</td>\n",
       "      <td>10.858308</td>\n",
       "      <td>NaN</td>\n",
       "      <td>NaN</td>\n",
       "      <td>NaN</td>\n",
       "      <td>NaN</td>\n",
       "      <td>NaN</td>\n",
       "      <td>49.94535</td>\n",
       "      <td>NaN</td>\n",
       "    </tr>\n",
       "    <tr>\n",
       "      <th>min</th>\n",
       "      <td>NaN</td>\n",
       "      <td>NaN</td>\n",
       "      <td>NaN</td>\n",
       "      <td>NaN</td>\n",
       "      <td>18.000000</td>\n",
       "      <td>NaN</td>\n",
       "      <td>NaN</td>\n",
       "      <td>NaN</td>\n",
       "      <td>NaN</td>\n",
       "      <td>NaN</td>\n",
       "      <td>78.42000</td>\n",
       "      <td>NaN</td>\n",
       "    </tr>\n",
       "    <tr>\n",
       "      <th>25%</th>\n",
       "      <td>NaN</td>\n",
       "      <td>NaN</td>\n",
       "      <td>NaN</td>\n",
       "      <td>NaN</td>\n",
       "      <td>33.000000</td>\n",
       "      <td>NaN</td>\n",
       "      <td>NaN</td>\n",
       "      <td>NaN</td>\n",
       "      <td>NaN</td>\n",
       "      <td>NaN</td>\n",
       "      <td>224.63000</td>\n",
       "      <td>NaN</td>\n",
       "    </tr>\n",
       "    <tr>\n",
       "      <th>50%</th>\n",
       "      <td>NaN</td>\n",
       "      <td>NaN</td>\n",
       "      <td>NaN</td>\n",
       "      <td>NaN</td>\n",
       "      <td>42.000000</td>\n",
       "      <td>NaN</td>\n",
       "      <td>NaN</td>\n",
       "      <td>NaN</td>\n",
       "      <td>NaN</td>\n",
       "      <td>NaN</td>\n",
       "      <td>251.07500</td>\n",
       "      <td>NaN</td>\n",
       "    </tr>\n",
       "    <tr>\n",
       "      <th>75%</th>\n",
       "      <td>NaN</td>\n",
       "      <td>NaN</td>\n",
       "      <td>NaN</td>\n",
       "      <td>NaN</td>\n",
       "      <td>50.000000</td>\n",
       "      <td>NaN</td>\n",
       "      <td>NaN</td>\n",
       "      <td>NaN</td>\n",
       "      <td>NaN</td>\n",
       "      <td>NaN</td>\n",
       "      <td>285.53000</td>\n",
       "      <td>NaN</td>\n",
       "    </tr>\n",
       "    <tr>\n",
       "      <th>max</th>\n",
       "      <td>NaN</td>\n",
       "      <td>NaN</td>\n",
       "      <td>NaN</td>\n",
       "      <td>NaN</td>\n",
       "      <td>83.000000</td>\n",
       "      <td>NaN</td>\n",
       "      <td>NaN</td>\n",
       "      <td>NaN</td>\n",
       "      <td>NaN</td>\n",
       "      <td>NaN</td>\n",
       "      <td>570.27000</td>\n",
       "      <td>NaN</td>\n",
       "    </tr>\n",
       "  </tbody>\n",
       "</table>\n",
       "</div>"
      ],
      "text/plain": [
       "               division          name    city gender           age official  \\\n",
       "count             21652         21652   21652  21652  21652.000000    21652   \n",
       "unique            21652         21621    4975      2           NaN     9570   \n",
       "top     743      / 1442  Lewis, Shawn  Boston      M           NaN        -   \n",
       "freq                  1             2     500  12648           NaN       76   \n",
       "mean                NaN           NaN     NaN    NaN     41.836135      NaN   \n",
       "std                 NaN           NaN     NaN    NaN     10.858308      NaN   \n",
       "min                 NaN           NaN     NaN    NaN     18.000000      NaN   \n",
       "25%                 NaN           NaN     NaN    NaN     33.000000      NaN   \n",
       "50%                 NaN           NaN     NaN    NaN     42.000000      NaN   \n",
       "75%                 NaN           NaN     NaN    NaN     50.000000      NaN   \n",
       "max                 NaN           NaN     NaN    NaN     83.000000      NaN   \n",
       "\n",
       "          bib           overall  state         genderdiv          net country  \n",
       "count   21652             21652  19880             21652  21652.00000   21652  \n",
       "unique  21652             21652     67             21652          NaN      60  \n",
       "top      7042  8050     / 21616     MA  11349    / 12621          NaN     USA  \n",
       "freq        1                 1   4030                 1          NaN   18064  \n",
       "mean      NaN               NaN    NaN               NaN    258.64258     NaN  \n",
       "std       NaN               NaN    NaN               NaN     49.94535     NaN  \n",
       "min       NaN               NaN    NaN               NaN     78.42000     NaN  \n",
       "25%       NaN               NaN    NaN               NaN    224.63000     NaN  \n",
       "50%       NaN               NaN    NaN               NaN    251.07500     NaN  \n",
       "75%       NaN               NaN    NaN               NaN    285.53000     NaN  \n",
       "max       NaN               NaN    NaN               NaN    570.27000     NaN  "
      ]
     },
     "execution_count": 4,
     "metadata": {},
     "output_type": "execute_result"
    }
   ],
   "source": [
    "data.describe(include='all')"
   ]
  },
  {
   "cell_type": "code",
   "execution_count": 5,
   "metadata": {
    "scrolled": true
   },
   "outputs": [
    {
     "data": {
      "text/plain": [
       "division        0\n",
       "name            0\n",
       "city            0\n",
       "gender          0\n",
       "age             0\n",
       "official        0\n",
       "bib             0\n",
       "overall         0\n",
       "state        1772\n",
       "genderdiv       0\n",
       "net             0\n",
       "country         0\n",
       "dtype: int64"
      ]
     },
     "execution_count": 5,
     "metadata": {},
     "output_type": "execute_result"
    }
   ],
   "source": [
    "data.isnull().sum()\n"
   ]
  },
  {
   "cell_type": "code",
   "execution_count": 6,
   "metadata": {
    "collapsed": true
   },
   "outputs": [],
   "source": [
    "#cột state có 1772 dòng giá trị null: do những quốc gia không có tiểu bang."
   ]
  },
  {
   "cell_type": "code",
   "execution_count": 7,
   "metadata": {},
   "outputs": [
    {
     "data": {
      "text/plain": [
       "76"
      ]
     },
     "execution_count": 7,
     "metadata": {},
     "output_type": "execute_result"
    }
   ],
   "source": [
    "data[data.official.str.contains(\"-\")].count()[\"net\"]"
   ]
  },
  {
   "cell_type": "code",
   "execution_count": 8,
   "metadata": {
    "scrolled": true
   },
   "outputs": [
    {
     "data": {
      "image/png": "[encoded data removed]",
      "text/plain": [
       "<matplotlib.figure.Figure at 0x2a55d556d68>"
      ]
     },
     "metadata": {},
     "output_type": "display_data"
    }
   ],
   "source": [
    "datatest = data.drop(data[data.official.str.contains(\"-\")==True].index)\n",
    "datatest.official = datatest.official.astype(float)\n",
    "plt.plot( 'official', 'net', data=datatest, linestyle='none', marker='o')\n",
    "plt.show()"
   ]
  },
  {
   "cell_type": "code",
   "execution_count": 9,
   "metadata": {
    "collapsed": true,
    "scrolled": true
   },
   "outputs": [],
   "source": [
    "# có những giá trị là dấu '-' ở cột official\n",
    "# giá trị cột offcial và cột net có giá trị gần giống nhau. Cột net có thể đại diện cho cột official.\n"
   ]
  },
  {
   "cell_type": "code",
   "execution_count": null,
   "metadata": {
    "collapsed": true
   },
   "outputs": [],
   "source": []
  },
  {
   "cell_type": "code",
   "execution_count": null,
   "metadata": {
    "collapsed": true
   },
   "outputs": [],
   "source": []
  },
  {
   "cell_type": "code",
   "execution_count": 10,
   "metadata": {
    "scrolled": true
   },
   "outputs": [
    {
     "data": {
      "text/plain": [
       "division      object\n",
       "name          object\n",
       "city          object\n",
       "gender        object\n",
       "age            int64\n",
       "official      object\n",
       "bib           object\n",
       "overall       object\n",
       "state         object\n",
       "genderdiv     object\n",
       "net          float64\n",
       "country       object\n",
       "dtype: object"
      ]
     },
     "execution_count": 10,
     "metadata": {},
     "output_type": "execute_result"
    }
   ],
   "source": [
    "data.dtypes"
   ]
  },
  {
   "cell_type": "code",
   "execution_count": null,
   "metadata": {
    "collapsed": true,
    "scrolled": true
   },
   "outputs": [],
   "source": []
  },
  {
   "cell_type": "code",
   "execution_count": 11,
   "metadata": {},
   "outputs": [
    {
     "data": {
      "image/png": "[encoded data removed]",
      "text/plain": [
       "<matplotlib.figure.Figure at 0x2a55d5e8ac8>"
      ]
     },
     "metadata": {},
     "output_type": "display_data"
    }
   ],
   "source": [
    "g = sns.countplot('age', data=data, palette=\"coolwarm\")\n",
    "g.figure.set_size_inches(13,8)\n",
    "g.set_title(\"số lượng runner theo độ tuổi\")\n",
    "plt.show()"
   ]
  },
  {
   "cell_type": "code",
   "execution_count": 12,
   "metadata": {
    "collapsed": true
   },
   "outputs": [],
   "source": [
    "#các  vận động viên chủ yếu từ 24-60 tuổi, độ tuổi từ 40 đến 51 chiếm đa số"
   ]
  },
  {
   "cell_type": "code",
   "execution_count": 13,
   "metadata": {
    "scrolled": false
   },
   "outputs": [
    {
     "data": {
      "image/png": "[encoded data removed]",
      "text/plain": [
       "<matplotlib.figure.Figure at 0x2a55d54b588>"
      ]
     },
     "metadata": {},
     "output_type": "display_data"
    }
   ],
   "source": [
    "import numpy as np\n",
    "import seaborn as sns\n",
    "conditions = [\n",
    "    (data.bib.str.contains(\"W\")==True),\n",
    "    (data.bib.str.contains(\"F\")==True)]\n",
    "choices = ['W','F']\n",
    "data['cls'] = np.select(conditions, choices, default='M')\n",
    "ax = sns.boxplot(x='cls',y='net',data=data)\n",
    "plt.show()"
   ]
  },
  {
   "cell_type": "code",
   "execution_count": 14,
   "metadata": {
    "collapsed": true
   },
   "outputs": [],
   "source": [
    "#trung bình người khuyết tật hooàn thành nhanh nhất, đến phụ nữ và đàn ông\n",
    "#sự trênh lệch về thời gian là rất lớn ở đàn ông\n"
   ]
  },
  {
   "cell_type": "code",
   "execution_count": 15,
   "metadata": {},
   "outputs": [
    {
     "data": {
      "image/png": "[encoded data removed]",
      "text/plain": [
       "<matplotlib.figure.Figure at 0x2a55da20048>"
      ]
     },
     "metadata": {},
     "output_type": "display_data"
    }
   ],
   "source": [
    "\n",
    "ax = sns.boxplot(x='age',y='net',data=data)\n",
    "plt.show()"
   ]
  },
  {
   "cell_type": "code",
   "execution_count": null,
   "metadata": {
    "collapsed": true
   },
   "outputs": [],
   "source": []
  },
  {
   "cell_type": "markdown",
   "metadata": {},
   "source": [
    "# Phân loại thể lực dựa trên số tuổi và thời gian chạy."
   ]
  },
  {
   "cell_type": "code",
   "execution_count": 16,
   "metadata": {
    "scrolled": true
   },
   "outputs": [
    {
     "name": "stdout",
     "output_type": "stream",
     "text": [
      "Centers found by scikit-learn:\n",
      "[[ 45.05439657 295.90701306]\n",
      " [ 37.23684211 204.38178246]\n",
      " [ 42.41145185 248.0340206 ]\n",
      " [ 44.16515609 365.3420292 ]]\n"
     ]
    },
    {
     "data": {
      "image/png": "[encoded data removed]",
      "text/plain": [
       "<matplotlib.figure.Figure at 0x2a560ac01d0>"
      ]
     },
     "metadata": {},
     "output_type": "display_data"
    }
   ],
   "source": [
    "#KMeans with age and net\n",
    "cols = ['age','net']\n",
    "datatrain = data[cols]\n",
    "\n",
    "n = 4\n",
    "from sklearn.cluster import KMeans\n",
    "import numpy as np\n",
    "kmeans = KMeans(n_clusters=n, init='random', n_init=10, max_iter=300, tol=0.0001, precompute_distances='auto', verbose=0, random_state=None, copy_x=True, n_jobs=1, algorithm='auto').fit(datatrain)\n",
    "print ('Centers found by scikit-learn:')\n",
    "print (kmeans.cluster_centers_)\n",
    "pred_label = kmeans.predict(datatrain)\n",
    "data['label'] = pred_label\n",
    "for i in range(n):\n",
    "    plt.plot( 'age', 'net', data=data[data.label == i], linestyle='none', marker='o')\n",
    "\n",
    "plt.show()"
   ]
  },
  {
   "cell_type": "code",
   "execution_count": 17,
   "metadata": {
    "collapsed": true
   },
   "outputs": [],
   "source": [
    "#kết quả nhận được không hợp lí. phân loại thể lực là như nhau giữa các độ tuổi."
   ]
  },
  {
   "cell_type": "code",
   "execution_count": 18,
   "metadata": {
    "collapsed": true,
    "scrolled": true
   },
   "outputs": [],
   "source": [
    "#Tạo dữ liệu mới\n",
    "#cần làm cho khỏang cách giữa những điểm là người có thành tích tốt theo độ tuổi gần nhau hơn \n",
    "data['apn'] = data['age']/(data.net)\n",
    "data['npa'] = data['net']**2/(data.age)\n",
    "strongyoung = data[(data.net < 140) & (data.age < 25)]\n",
    "strongelder = data[(data.net < 200) & (data.age > 60)]"
   ]
  },
  {
   "cell_type": "code",
   "execution_count": 19,
   "metadata": {
    "scrolled": false
   },
   "outputs": [
    {
     "data": {
      "image/png": "[encoded data removed]",
      "text/plain": [
       "<matplotlib.figure.Figure at 0x2a55da20e10>"
      ]
     },
     "metadata": {},
     "output_type": "display_data"
    }
   ],
   "source": [
    "plt.plot( 'apn', 'npa', data=data, linestyle='none', marker='o')\n",
    "plt.plot( 'apn', 'npa', data=strongyoung, linestyle='none', marker='o')\n",
    "plt.plot( 'apn', 'npa', data=strongelder, linestyle='none', marker='o')\n",
    "plt.show()"
   ]
  },
  {
   "cell_type": "code",
   "execution_count": 20,
   "metadata": {},
   "outputs": [
    {
     "data": {
      "image/png": "[encoded data removed]",
      "text/plain": [
       "<matplotlib.figure.Figure at 0x2a55e25a5c0>"
      ]
     },
     "metadata": {},
     "output_type": "display_data"
    }
   ],
   "source": [
    "data['apn'] = data['age']/(data.net)**2\n",
    "data['npa'] = data['net']**2/(data.age)\n",
    "strongyoung = data[(data.net < 140) & (data.age < 25)]\n",
    "strongelder = data[(data.net < 200) & (data.age > 60)]\n",
    "plt.plot( 'apn', 'npa', data=data, linestyle='none', marker='o')\n",
    "plt.plot( 'apn', 'npa', data=strongyoung, linestyle='none', marker='o')\n",
    "plt.plot( 'apn', 'npa', data=strongelder, linestyle='none', marker='o')\n",
    "plt.show()"
   ]
  },
  {
   "cell_type": "code",
   "execution_count": 21,
   "metadata": {
    "collapsed": true
   },
   "outputs": [],
   "source": [
    "datam = data.drop(data[data.gender == \"F\"].index)\n",
    "datam = datam.drop(datam[datam.bib.str.contains(\"W\")==True].index)\n",
    "cols = ['apn','npa']\n",
    "datatrain = datam[cols]"
   ]
  },
  {
   "cell_type": "code",
   "execution_count": 22,
   "metadata": {},
   "outputs": [
    {
     "data": {
      "text/html": [
       "<div>\n",
       "<style>\n",
       "    .dataframe thead tr:only-child th {\n",
       "        text-align: right;\n",
       "    }\n",
       "\n",
       "    .dataframe thead th {\n",
       "        text-align: left;\n",
       "    }\n",
       "\n",
       "    .dataframe tbody tr th {\n",
       "        vertical-align: top;\n",
       "    }\n",
       "</style>\n",
       "<table border=\"1\" class=\"dataframe\">\n",
       "  <thead>\n",
       "    <tr style=\"text-align: right;\">\n",
       "      <th></th>\n",
       "      <th>apn</th>\n",
       "      <th>npa</th>\n",
       "    </tr>\n",
       "  </thead>\n",
       "  <tbody>\n",
       "    <tr>\n",
       "      <th>1</th>\n",
       "      <td>0.001322</td>\n",
       "      <td>756.629070</td>\n",
       "    </tr>\n",
       "    <tr>\n",
       "      <th>5</th>\n",
       "      <td>0.001242</td>\n",
       "      <td>805.255000</td>\n",
       "    </tr>\n",
       "    <tr>\n",
       "      <th>7</th>\n",
       "      <td>0.001428</td>\n",
       "      <td>700.234804</td>\n",
       "    </tr>\n",
       "    <tr>\n",
       "      <th>11</th>\n",
       "      <td>0.001417</td>\n",
       "      <td>705.955015</td>\n",
       "    </tr>\n",
       "    <tr>\n",
       "      <th>15</th>\n",
       "      <td>0.001648</td>\n",
       "      <td>606.942376</td>\n",
       "    </tr>\n",
       "  </tbody>\n",
       "</table>\n",
       "</div>"
      ],
      "text/plain": [
       "         apn         npa\n",
       "1   0.001322  756.629070\n",
       "5   0.001242  805.255000\n",
       "7   0.001428  700.234804\n",
       "11  0.001417  705.955015\n",
       "15  0.001648  606.942376"
      ]
     },
     "execution_count": 22,
     "metadata": {},
     "output_type": "execute_result"
    }
   ],
   "source": [
    "\n",
    "datatrain.head()"
   ]
  },
  {
   "cell_type": "code",
   "execution_count": null,
   "metadata": {},
   "outputs": [
    {
     "name": "stdout",
     "output_type": "stream",
     "text": [
      "Centers found by scikit-learn:\n",
      "[[5.99948154e-04 1.69391062e+03]\n",
      " [2.28158946e-04 4.50967410e+03]\n",
      " [9.37293878e-04 1.09967754e+03]\n",
      " [3.76704597e-04 2.70447287e+03]]\n"
     ]
    },
    {
     "data": {
      "image/png": "[encoded data removed]",
      "text/plain": [
       "<matplotlib.figure.Figure at 0x2a561ec85f8>"
      ]
     },
     "metadata": {},
     "output_type": "display_data"
    }
   ],
   "source": [
    "\n",
    "n = 4\n",
    "from sklearn.cluster import KMeans\n",
    "import numpy as np\n",
    "kmeans = KMeans(n_clusters=n, init='random', n_init=10, max_iter=300, tol=0.0001, precompute_distances='auto', verbose=0, random_state=None, copy_x=True, n_jobs=1, algorithm='auto').fit(datatrain)\n",
    "print ('Centers found by scikit-learn:')\n",
    "print (kmeans.cluster_centers_)\n",
    "pred_label = kmeans.predict(datatrain)\n",
    "datam['label'] = pred_label\n",
    "for i in range(n):\n",
    "    plt.plot( 'age', 'net', data=datam[datam.label == i], linestyle='none', marker='o')\n",
    "\n",
    "plt.show()"
   ]
  },
  {
   "cell_type": "markdown",
   "metadata": {},
   "source": [
    "Kết quả nhân được khá ỏn với màu cam là những người có thể lực khỏe, Xanh lục: trung bình khá, màu đỏ: trung bình, Xanh lam: thể lực không tốt."
   ]
  },
  {
   "cell_type": "code",
   "execution_count": null,
   "metadata": {
    "collapsed": true,
    "scrolled": true
   },
   "outputs": [],
   "source": [
    "from sklearn.metrics import silhouette_score"
   ]
  },
  {
   "cell_type": "code",
   "execution_count": null,
   "metadata": {
    "collapsed": true,
    "scrolled": true
   },
   "outputs": [],
   "source": []
  },
  {
   "cell_type": "code",
   "execution_count": null,
   "metadata": {
    "collapsed": true
   },
   "outputs": [],
   "source": []
  },
  {
   "cell_type": "code",
   "execution_count": null,
   "metadata": {
    "collapsed": true,
    "scrolled": true
   },
   "outputs": [],
   "source": []
  },
  {
   "cell_type": "code",
   "execution_count": null,
   "metadata": {
    "collapsed": true
   },
   "outputs": [],
   "source": []
  },
  {
   "cell_type": "code",
   "execution_count": null,
   "metadata": {
    "collapsed": true
   },
   "outputs": [],
   "source": []
  },
  {
   "cell_type": "code",
   "execution_count": null,
   "metadata": {
    "collapsed": true
   },
   "outputs": [],
   "source": []
  },
  {
   "cell_type": "code",
   "execution_count": null,
   "metadata": {
    "collapsed": true
   },
   "outputs": [],
   "source": []
  },
  {
   "cell_type": "code",
   "execution_count": null,
   "metadata": {
    "collapsed": true,
    "scrolled": true
   },
   "outputs": [],
   "source": [
    "# phân loại cho dữ liệu là nữ:\n",
    "dataF = data.drop(data[data.gender == \"M\"].index)\n",
    "dataF = dataF.drop(dataF[dataF.bib.str.contains(\"W\")==True].index)\n",
    "cols = ['apn','npa']\n",
    "datatrain = dataF[cols]\n",
    "n = 4\n",
    "from sklearn.cluster import KMeans\n",
    "import numpy as np\n",
    "kmeans = KMeans(n_clusters=n, init='random', n_init=10, max_iter=300, tol=0.0001, precompute_distances='auto', verbose=0, random_state=None, copy_x=True, n_jobs=1, algorithm='auto').fit(datatrain)\n",
    "print ('Centers found by scikit-learn:')\n",
    "print (kmeans.cluster_centers_)\n",
    "pred_label = kmeans.predict(datatrain)\n",
    "dataF['label'] = pred_label\n",
    "for i in range(n):\n",
    "    plt.plot( 'age', 'net', data=dataF[dataF.label == i], linestyle='none', marker='o')\n",
    "\n",
    "plt.show()"
   ]
  },
  {
   "cell_type": "code",
   "execution_count": null,
   "metadata": {
    "collapsed": true
   },
   "outputs": [],
   "source": []
  },
  {
   "cell_type": "code",
   "execution_count": null,
   "metadata": {
    "collapsed": true
   },
   "outputs": [],
   "source": []
  },
  {
   "cell_type": "code",
   "execution_count": null,
   "metadata": {
    "collapsed": true
   },
   "outputs": [],
   "source": []
  },
  {
   "cell_type": "code",
   "execution_count": null,
   "metadata": {
    "collapsed": true,
    "scrolled": true
   },
   "outputs": [],
   "source": [
    "# phân loại cho dữ liệu là người khuyết tật:\n",
    "# chỉ chia thành 2 loại\n",
    "dataw = data[data.bib.str.contains(\"W\")==True]\n",
    "cols = ['age','net']\n",
    "datatrain = dataw[cols]\n",
    "n = 2\n",
    "from sklearn.cluster import KMeans\n",
    "import numpy as np\n",
    "kmeans = KMeans(n_clusters=n, init='random', n_init=10, max_iter=300, tol=0.0001, precompute_distances='auto', verbose=0, random_state=None, copy_x=True, n_jobs=1, algorithm='auto').fit(datatrain)\n",
    "print ('Centers found by scikit-learn:')\n",
    "print (kmeans.cluster_centers_)\n",
    "pred_label = kmeans.predict(datatrain)\n",
    "dataw['label'] = pred_label\n",
    "for i in range(n):\n",
    "    plt.plot( 'age', 'net', data=dataw[dataw.label == i], linestyle='none', marker='o')\n",
    "\n",
    "plt.show()"
   ]
  },
  {
   "cell_type": "code",
   "execution_count": null,
   "metadata": {
    "collapsed": true
   },
   "outputs": [],
   "source": []
  },
  {
   "cell_type": "code",
   "execution_count": null,
   "metadata": {
    "collapsed": true
   },
   "outputs": [],
   "source": []
  }
 ],
 "metadata": {
  "kernelspec": {
   "display_name": "Python 3",
   "language": "python",
   "name": "python3"
  },
  "language_info": {
   "codemirror_mode": {
    "name": "ipython",
    "version": 3
   },
   "file_extension": ".py",
   "mimetype": "text/x-python",
   "name": "python",
   "nbconvert_exporter": "python",
   "pygments_lexer": "ipython3",
   "version": "3.6.3"
  }
 },
 "nbformat": 4,
 "nbformat_minor": 2
}
