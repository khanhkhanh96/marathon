{
 "cells": [
  {
   "cell_type": "code",
   "execution_count": 39,
   "metadata": {
    "collapsed": true
   },
   "outputs": [],
   "source": [
    "import pandas as pd\n",
    "import matplotlib.pyplot as plt\n",
    "import math\n",
    "import seaborn as sns\n"
   ]
  },
  {
   "cell_type": "code",
   "execution_count": 40,
   "metadata": {
    "collapsed": true
   },
   "outputs": [],
   "source": [
    "data = pd.read_csv(\"results.csv\")"
   ]
  },
  {
   "cell_type": "code",
   "execution_count": 41,
   "metadata": {
    "scrolled": true
   },
   "outputs": [
    {
     "data": {
      "text/html": [
       "<div>\n",
       "<style>\n",
       "    .dataframe thead tr:only-child th {\n",
       "        text-align: right;\n",
       "    }\n",
       "\n",
       "    .dataframe thead th {\n",
       "        text-align: left;\n",
       "    }\n",
       "\n",
       "    .dataframe tbody tr th {\n",
       "        vertical-align: top;\n",
       "    }\n",
       "</style>\n",
       "<table border=\"1\" class=\"dataframe\">\n",
       "  <thead>\n",
       "    <tr style=\"text-align: right;\">\n",
       "      <th></th>\n",
       "      <th>division</th>\n",
       "      <th>name</th>\n",
       "      <th>city</th>\n",
       "      <th>gender</th>\n",
       "      <th>age</th>\n",
       "      <th>official</th>\n",
       "      <th>bib</th>\n",
       "      <th>overall</th>\n",
       "      <th>state</th>\n",
       "      <th>genderdiv</th>\n",
       "      <th>net</th>\n",
       "      <th>country</th>\n",
       "    </tr>\n",
       "  </thead>\n",
       "  <tbody>\n",
       "    <tr>\n",
       "      <th>0</th>\n",
       "      <td>4        / 26</td>\n",
       "      <td>Soejima, Masazumi</td>\n",
       "      <td>Fukuoka City</td>\n",
       "      <td>M</td>\n",
       "      <td>41</td>\n",
       "      <td>83.45</td>\n",
       "      <td>W1</td>\n",
       "      <td>4        / 35</td>\n",
       "      <td>NaN</td>\n",
       "      <td>4        / 26</td>\n",
       "      <td>83.45</td>\n",
       "      <td>JPN</td>\n",
       "    </tr>\n",
       "    <tr>\n",
       "      <th>1</th>\n",
       "      <td>14       / 4335</td>\n",
       "      <td>Gebremariam, Gebregziabher</td>\n",
       "      <td>Tigray</td>\n",
       "      <td>M</td>\n",
       "      <td>27</td>\n",
       "      <td>142.93</td>\n",
       "      <td>2</td>\n",
       "      <td>14       / 21616</td>\n",
       "      <td>NaN</td>\n",
       "      <td>14       / 12621</td>\n",
       "      <td>142.93</td>\n",
       "      <td>ETH</td>\n",
       "    </tr>\n",
       "    <tr>\n",
       "      <th>2</th>\n",
       "      <td>6        / 26</td>\n",
       "      <td>Van Dyk, Ernst F.</td>\n",
       "      <td>Paarl</td>\n",
       "      <td>M</td>\n",
       "      <td>39</td>\n",
       "      <td>84.38</td>\n",
       "      <td>W2</td>\n",
       "      <td>6        / 35</td>\n",
       "      <td>NaN</td>\n",
       "      <td>6        / 26</td>\n",
       "      <td>84.38</td>\n",
       "      <td>RSA</td>\n",
       "    </tr>\n",
       "    <tr>\n",
       "      <th>3</th>\n",
       "      <td>2        / 26</td>\n",
       "      <td>Fearnley, Kurt H.</td>\n",
       "      <td>Hamilton</td>\n",
       "      <td>M</td>\n",
       "      <td>31</td>\n",
       "      <td>81.65</td>\n",
       "      <td>W3</td>\n",
       "      <td>2        / 35</td>\n",
       "      <td>NaN</td>\n",
       "      <td>2        / 26</td>\n",
       "      <td>81.65</td>\n",
       "      <td>AUS</td>\n",
       "    </tr>\n",
       "    <tr>\n",
       "      <th>4</th>\n",
       "      <td>3        / 26</td>\n",
       "      <td>Hokinoue, Kota</td>\n",
       "      <td>Iizuka</td>\n",
       "      <td>M</td>\n",
       "      <td>38</td>\n",
       "      <td>83.43</td>\n",
       "      <td>W4</td>\n",
       "      <td>3        / 35</td>\n",
       "      <td>NaN</td>\n",
       "      <td>3        / 26</td>\n",
       "      <td>83.43</td>\n",
       "      <td>JPN</td>\n",
       "    </tr>\n",
       "  </tbody>\n",
       "</table>\n",
       "</div>"
      ],
      "text/plain": [
       "          division                        name          city gender  age  \\\n",
       "0    4        / 26           Soejima, Masazumi  Fukuoka City      M   41   \n",
       "1  14       / 4335  Gebremariam, Gebregziabher        Tigray      M   27   \n",
       "2    6        / 26           Van Dyk, Ernst F.         Paarl      M   39   \n",
       "3    2        / 26           Fearnley, Kurt H.      Hamilton      M   31   \n",
       "4    3        / 26              Hokinoue, Kota        Iizuka      M   38   \n",
       "\n",
       "  official bib           overall state         genderdiv     net country  \n",
       "0    83.45  W1     4        / 35   NaN     4        / 26   83.45     JPN  \n",
       "1   142.93   2  14       / 21616   NaN  14       / 12621  142.93     ETH  \n",
       "2    84.38  W2     6        / 35   NaN     6        / 26   84.38     RSA  \n",
       "3    81.65  W3     2        / 35   NaN     2        / 26   81.65     AUS  \n",
       "4    83.43  W4     3        / 35   NaN     3        / 26   83.43     JPN  "
      ]
     },
     "execution_count": 41,
     "metadata": {},
     "output_type": "execute_result"
    }
   ],
   "source": [
    "data.head()"
   ]
  },
  {
   "cell_type": "code",
   "execution_count": 42,
   "metadata": {},
   "outputs": [
    {
     "data": {
      "text/html": [
       "<div>\n",
       "<style>\n",
       "    .dataframe thead tr:only-child th {\n",
       "        text-align: right;\n",
       "    }\n",
       "\n",
       "    .dataframe thead th {\n",
       "        text-align: left;\n",
       "    }\n",
       "\n",
       "    .dataframe tbody tr th {\n",
       "        vertical-align: top;\n",
       "    }\n",
       "</style>\n",
       "<table border=\"1\" class=\"dataframe\">\n",
       "  <thead>\n",
       "    <tr style=\"text-align: right;\">\n",
       "      <th></th>\n",
       "      <th>division</th>\n",
       "      <th>name</th>\n",
       "      <th>city</th>\n",
       "      <th>gender</th>\n",
       "      <th>age</th>\n",
       "      <th>official</th>\n",
       "      <th>bib</th>\n",
       "      <th>overall</th>\n",
       "      <th>state</th>\n",
       "      <th>genderdiv</th>\n",
       "      <th>net</th>\n",
       "      <th>country</th>\n",
       "    </tr>\n",
       "  </thead>\n",
       "  <tbody>\n",
       "    <tr>\n",
       "      <th>count</th>\n",
       "      <td>21652</td>\n",
       "      <td>21652</td>\n",
       "      <td>21652</td>\n",
       "      <td>21652</td>\n",
       "      <td>21652.000000</td>\n",
       "      <td>21652</td>\n",
       "      <td>21652</td>\n",
       "      <td>21652</td>\n",
       "      <td>19880</td>\n",
       "      <td>21652</td>\n",
       "      <td>21652.00000</td>\n",
       "      <td>21652</td>\n",
       "    </tr>\n",
       "    <tr>\n",
       "      <th>unique</th>\n",
       "      <td>21652</td>\n",
       "      <td>21621</td>\n",
       "      <td>4975</td>\n",
       "      <td>2</td>\n",
       "      <td>NaN</td>\n",
       "      <td>9570</td>\n",
       "      <td>21652</td>\n",
       "      <td>21652</td>\n",
       "      <td>67</td>\n",
       "      <td>21652</td>\n",
       "      <td>NaN</td>\n",
       "      <td>60</td>\n",
       "    </tr>\n",
       "    <tr>\n",
       "      <th>top</th>\n",
       "      <td>743      / 1442</td>\n",
       "      <td>Lewis, Shawn</td>\n",
       "      <td>Boston</td>\n",
       "      <td>M</td>\n",
       "      <td>NaN</td>\n",
       "      <td>-</td>\n",
       "      <td>7042</td>\n",
       "      <td>8050     / 21616</td>\n",
       "      <td>MA</td>\n",
       "      <td>11349    / 12621</td>\n",
       "      <td>NaN</td>\n",
       "      <td>USA</td>\n",
       "    </tr>\n",
       "    <tr>\n",
       "      <th>freq</th>\n",
       "      <td>1</td>\n",
       "      <td>2</td>\n",
       "      <td>500</td>\n",
       "      <td>12648</td>\n",
       "      <td>NaN</td>\n",
       "      <td>76</td>\n",
       "      <td>1</td>\n",
       "      <td>1</td>\n",
       "      <td>4030</td>\n",
       "      <td>1</td>\n",
       "      <td>NaN</td>\n",
       "      <td>18064</td>\n",
       "    </tr>\n",
       "    <tr>\n",
       "      <th>mean</th>\n",
       "      <td>NaN</td>\n",
       "      <td>NaN</td>\n",
       "      <td>NaN</td>\n",
       "      <td>NaN</td>\n",
       "      <td>41.836135</td>\n",
       "      <td>NaN</td>\n",
       "      <td>NaN</td>\n",
       "      <td>NaN</td>\n",
       "      <td>NaN</td>\n",
       "      <td>NaN</td>\n",
       "      <td>258.64258</td>\n",
       "      <td>NaN</td>\n",
       "    </tr>\n",
       "    <tr>\n",
       "      <th>std</th>\n",
       "      <td>NaN</td>\n",
       "      <td>NaN</td>\n",
       "      <td>NaN</td>\n",
       "      <td>NaN</td>\n",
       "      <td>10.858308</td>\n",
       "      <td>NaN</td>\n",
       "      <td>NaN</td>\n",
       "      <td>NaN</td>\n",
       "      <td>NaN</td>\n",
       "      <td>NaN</td>\n",
       "      <td>49.94535</td>\n",
       "      <td>NaN</td>\n",
       "    </tr>\n",
       "    <tr>\n",
       "      <th>min</th>\n",
       "      <td>NaN</td>\n",
       "      <td>NaN</td>\n",
       "      <td>NaN</td>\n",
       "      <td>NaN</td>\n",
       "      <td>18.000000</td>\n",
       "      <td>NaN</td>\n",
       "      <td>NaN</td>\n",
       "      <td>NaN</td>\n",
       "      <td>NaN</td>\n",
       "      <td>NaN</td>\n",
       "      <td>78.42000</td>\n",
       "      <td>NaN</td>\n",
       "    </tr>\n",
       "    <tr>\n",
       "      <th>25%</th>\n",
       "      <td>NaN</td>\n",
       "      <td>NaN</td>\n",
       "      <td>NaN</td>\n",
       "      <td>NaN</td>\n",
       "      <td>33.000000</td>\n",
       "      <td>NaN</td>\n",
       "      <td>NaN</td>\n",
       "      <td>NaN</td>\n",
       "      <td>NaN</td>\n",
       "      <td>NaN</td>\n",
       "      <td>224.63000</td>\n",
       "      <td>NaN</td>\n",
       "    </tr>\n",
       "    <tr>\n",
       "      <th>50%</th>\n",
       "      <td>NaN</td>\n",
       "      <td>NaN</td>\n",
       "      <td>NaN</td>\n",
       "      <td>NaN</td>\n",
       "      <td>42.000000</td>\n",
       "      <td>NaN</td>\n",
       "      <td>NaN</td>\n",
       "      <td>NaN</td>\n",
       "      <td>NaN</td>\n",
       "      <td>NaN</td>\n",
       "      <td>251.07500</td>\n",
       "      <td>NaN</td>\n",
       "    </tr>\n",
       "    <tr>\n",
       "      <th>75%</th>\n",
       "      <td>NaN</td>\n",
       "      <td>NaN</td>\n",
       "      <td>NaN</td>\n",
       "      <td>NaN</td>\n",
       "      <td>50.000000</td>\n",
       "      <td>NaN</td>\n",
       "      <td>NaN</td>\n",
       "      <td>NaN</td>\n",
       "      <td>NaN</td>\n",
       "      <td>NaN</td>\n",
       "      <td>285.53000</td>\n",
       "      <td>NaN</td>\n",
       "    </tr>\n",
       "    <tr>\n",
       "      <th>max</th>\n",
       "      <td>NaN</td>\n",
       "      <td>NaN</td>\n",
       "      <td>NaN</td>\n",
       "      <td>NaN</td>\n",
       "      <td>83.000000</td>\n",
       "      <td>NaN</td>\n",
       "      <td>NaN</td>\n",
       "      <td>NaN</td>\n",
       "      <td>NaN</td>\n",
       "      <td>NaN</td>\n",
       "      <td>570.27000</td>\n",
       "      <td>NaN</td>\n",
       "    </tr>\n",
       "  </tbody>\n",
       "</table>\n",
       "</div>"
      ],
      "text/plain": [
       "               division          name    city gender           age official  \\\n",
       "count             21652         21652   21652  21652  21652.000000    21652   \n",
       "unique            21652         21621    4975      2           NaN     9570   \n",
       "top     743      / 1442  Lewis, Shawn  Boston      M           NaN        -   \n",
       "freq                  1             2     500  12648           NaN       76   \n",
       "mean                NaN           NaN     NaN    NaN     41.836135      NaN   \n",
       "std                 NaN           NaN     NaN    NaN     10.858308      NaN   \n",
       "min                 NaN           NaN     NaN    NaN     18.000000      NaN   \n",
       "25%                 NaN           NaN     NaN    NaN     33.000000      NaN   \n",
       "50%                 NaN           NaN     NaN    NaN     42.000000      NaN   \n",
       "75%                 NaN           NaN     NaN    NaN     50.000000      NaN   \n",
       "max                 NaN           NaN     NaN    NaN     83.000000      NaN   \n",
       "\n",
       "          bib           overall  state         genderdiv          net country  \n",
       "count   21652             21652  19880             21652  21652.00000   21652  \n",
       "unique  21652             21652     67             21652          NaN      60  \n",
       "top      7042  8050     / 21616     MA  11349    / 12621          NaN     USA  \n",
       "freq        1                 1   4030                 1          NaN   18064  \n",
       "mean      NaN               NaN    NaN               NaN    258.64258     NaN  \n",
       "std       NaN               NaN    NaN               NaN     49.94535     NaN  \n",
       "min       NaN               NaN    NaN               NaN     78.42000     NaN  \n",
       "25%       NaN               NaN    NaN               NaN    224.63000     NaN  \n",
       "50%       NaN               NaN    NaN               NaN    251.07500     NaN  \n",
       "75%       NaN               NaN    NaN               NaN    285.53000     NaN  \n",
       "max       NaN               NaN    NaN               NaN    570.27000     NaN  "
      ]
     },
     "execution_count": 42,
     "metadata": {},
     "output_type": "execute_result"
    }
   ],
   "source": [
    "data.describe(include='all')"
   ]
  },
  {
   "cell_type": "code",
   "execution_count": 43,
   "metadata": {
    "scrolled": true
   },
   "outputs": [
    {
     "data": {
      "text/plain": [
       "division        0\n",
       "name            0\n",
       "city            0\n",
       "gender          0\n",
       "age             0\n",
       "official        0\n",
       "bib             0\n",
       "overall         0\n",
       "state        1772\n",
       "genderdiv       0\n",
       "net             0\n",
       "country         0\n",
       "dtype: int64"
      ]
     },
     "execution_count": 43,
     "metadata": {},
     "output_type": "execute_result"
    }
   ],
   "source": [
    "data.isnull().sum()\n"
   ]
  },
  {
   "cell_type": "code",
   "execution_count": 44,
   "metadata": {
    "collapsed": true
   },
   "outputs": [],
   "source": [
    "#cột state có 1772 dòng giá trị null: do những quốc gia không có tiểu bang."
   ]
  },
  {
   "cell_type": "code",
   "execution_count": 45,
   "metadata": {},
   "outputs": [
    {
     "data": {
      "text/plain": [
       "76"
      ]
     },
     "execution_count": 45,
     "metadata": {},
     "output_type": "execute_result"
    }
   ],
   "source": [
    "data[data.official.str.contains(\"-\")].count()[\"net\"]"
   ]
  },
  {
   "cell_type": "code",
   "execution_count": 46,
   "metadata": {
    "scrolled": true
   },
   "outputs": [
    {
     "data": {
      "image/png": "[encoded data removed]",
      "text/plain": [
       "<matplotlib.figure.Figure at 0x2a55daf5cc0>"
      ]
     },
     "metadata": {},
     "output_type": "display_data"
    }
   ],
   "source": [
    "datatest = data.drop(data[data.official.str.contains(\"-\")==True].index)\n",
    "datatest.official = datatest.official.astype(float)\n",
    "plt.plot( 'official', 'net', data=datatest, linestyle='none', marker='o')\n",
    "plt.show()"
   ]
  },
  {
   "cell_type": "code",
   "execution_count": 47,
   "metadata": {
    "collapsed": true,
    "scrolled": true
   },
   "outputs": [],
   "source": [
    "# có những giá trị là dấu '-' ở cột official\n",
    "# giá trị cột offcial và cột net có giá trị gần giống nhau. Cột net có thể đại diện cho cột official.\n"
   ]
  },
  {
   "cell_type": "code",
   "execution_count": null,
   "metadata": {
    "collapsed": true
   },
   "outputs": [],
   "source": []
  },
  {
   "cell_type": "code",
   "execution_count": null,
   "metadata": {
    "collapsed": true
   },
   "outputs": [],
   "source": []
  },
  {
   "cell_type": "code",
   "execution_count": 48,
   "metadata": {
    "scrolled": true
   },
   "outputs": [
    {
     "data": {
      "text/plain": [
       "division      object\n",
       "name          object\n",
       "city          object\n",
       "gender        object\n",
       "age            int64\n",
       "official      object\n",
       "bib           object\n",
       "overall       object\n",
       "state         object\n",
       "genderdiv     object\n",
       "net          float64\n",
       "country       object\n",
       "dtype: object"
      ]
     },
     "execution_count": 48,
     "metadata": {},
     "output_type": "execute_result"
    }
   ],
   "source": [
    "data.dtypes"
   ]
  },
  {
   "cell_type": "code",
   "execution_count": null,
   "metadata": {
    "collapsed": true,
    "scrolled": true
   },
   "outputs": [],
   "source": []
  },
  {
   "cell_type": "code",
   "execution_count": 49,
   "metadata": {},
   "outputs": [
    {
     "data": {
      "image/png": "[encoded data removed]",
      "text/plain": [
       "<matplotlib.figure.Figure at 0x2a500810240>"
      ]
     },
     "metadata": {},
     "output_type": "display_data"
    }
   ],
   "source": [
    "g = sns.countplot('age', data=data, palette=\"coolwarm\")\n",
    "g.figure.set_size_inches(13,8)\n",
    "g.set_title(\"số lượng runner theo độ tuổi\")\n",
    "plt.show()"
   ]
  },
  {
   "cell_type": "code",
   "execution_count": 50,
   "metadata": {
    "collapsed": true
   },
   "outputs": [],
   "source": [
    "#các  vận động viên chủ yếu từ 24-60 tuổi, độ tuổi từ 40 đến 51 chiếm đa số"
   ]
  },
  {
   "cell_type": "code",
   "execution_count": 51,
   "metadata": {
    "scrolled": false
   },
   "outputs": [
    {
     "data": {
      "image/png": "[encoded data removed]",
      "text/plain": [
       "<matplotlib.figure.Figure at 0x2a55dae9940>"
      ]
     },
     "metadata": {},
     "output_type": "display_data"
    }
   ],
   "source": [
    "import numpy as np\n",
    "import seaborn as sns\n",
    "conditions = [\n",
    "    (data.bib.str.contains(\"W\")==True),\n",
    "    (data.bib.str.contains(\"F\")==True)]\n",
    "choices = ['W','F']\n",
    "data['cls'] = np.select(conditions, choices, default='M')\n",
    "ax = sns.boxplot(x='cls',y='net',data=data)\n",
    "plt.show()"
   ]
  },
  {
   "cell_type": "code",
   "execution_count": 52,
   "metadata": {
    "collapsed": true
   },
   "outputs": [],
   "source": [
    "#trung bình người khuyết tật hooàn thành nhanh nhất, đến phụ nữ và đàn ông\n",
    "#sự trênh lệch về thời gian là rất lớn ở đàn ông\n"
   ]
  },
  {
   "cell_type": "code",
   "execution_count": 53,
   "metadata": {},
   "outputs": [
    {
     "data": {
      "image/png": "[encoded data removed]",
      "text/plain": [
       "<matplotlib.figure.Figure at 0x2a50090a710>"
      ]
     },
     "metadata": {},
     "output_type": "display_data"
    }
   ],
   "source": [
    "\n",
    "ax = sns.boxplot(x='age',y='net',data=data)\n",
    "ax.figure.set_size_inches(13,8)\n",
    "plt.show()"
   ]
  },
  {
   "cell_type": "code",
   "execution_count": null,
   "metadata": {
    "collapsed": true
   },
   "outputs": [],
   "source": []
  },
  {
   "cell_type": "markdown",
   "metadata": {},
   "source": [
    "# Phân loại thể lực dựa trên số tuổi và thời gian chạy."
   ]
  },
  {
   "cell_type": "code",
   "execution_count": 54,
   "metadata": {
    "scrolled": true
   },
   "outputs": [
    {
     "name": "stdout",
     "output_type": "stream",
     "text": [
      "Centers found by scikit-learn:\n",
      "[[ 45.04968823 295.89328722]\n",
      " [ 44.16515609 365.3420292 ]\n",
      " [ 37.23741007 204.37782242]\n",
      " [ 42.41233729 248.02335144]]\n"
     ]
    },
    {
     "data": {
      "image/png": "[encoded data removed]",
      "text/plain": [
       "<matplotlib.figure.Figure at 0x2a500f80d30>"
      ]
     },
     "metadata": {},
     "output_type": "display_data"
    }
   ],
   "source": [
    "#KMeans with age and net\n",
    "cols = ['age','net']\n",
    "datatrain = data[cols]\n",
    "\n",
    "n = 4\n",
    "from sklearn.cluster import KMeans\n",
    "import numpy as np\n",
    "kmeans = KMeans(n_clusters=n, init='random', n_init=10, max_iter=300, tol=0.0001, precompute_distances='auto', verbose=0, random_state=None, copy_x=True, n_jobs=1, algorithm='auto').fit(datatrain)\n",
    "print ('Centers found by scikit-learn:')\n",
    "print (kmeans.cluster_centers_)\n",
    "pred_label = kmeans.predict(datatrain)\n",
    "data['label'] = pred_label\n",
    "for i in range(n):\n",
    "    plt.plot( 'age', 'net', data=data[data.label == i], linestyle='none', marker='o')\n",
    "\n",
    "plt.show()"
   ]
  },
  {
   "cell_type": "code",
   "execution_count": 55,
   "metadata": {
    "collapsed": true
   },
   "outputs": [],
   "source": [
    "#kết quả nhận được không hợp lí. phân loại thể lực là như nhau giữa các độ tuổi."
   ]
  },
  {
   "cell_type": "code",
   "execution_count": 56,
   "metadata": {
    "collapsed": true,
    "scrolled": true
   },
   "outputs": [],
   "source": [
    "#Tạo dữ liệu mới\n",
    "#cần làm cho khỏang cách giữa những điểm là người có thành tích tốt theo độ tuổi gần nhau hơn \n",
    "data['apn'] = data['age']/(data.net)\n",
    "data['npa'] = data['net']**2/(data.age)\n",
    "strongyoung = data[(data.net < 140) & (data.age < 25)]\n",
    "strongelder = data[(data.net < 200) & (data.age > 60)]"
   ]
  },
  {
   "cell_type": "code",
   "execution_count": 57,
   "metadata": {
    "scrolled": false
   },
   "outputs": [
    {
     "data": {
      "image/png": "[encoded data removed]",
      "text/plain": [
       "<matplotlib.figure.Figure at 0x2a500e62748>"
      ]
     },
     "metadata": {},
     "output_type": "display_data"
    }
   ],
   "source": [
    "plt.plot( 'apn', 'npa', data=data, linestyle='none', marker='o')\n",
    "plt.plot( 'apn', 'npa', data=strongyoung, linestyle='none', marker='o')\n",
    "plt.plot( 'apn', 'npa', data=strongelder, linestyle='none', marker='o')\n",
    "plt.show()"
   ]
  },
  {
   "cell_type": "code",
   "execution_count": 58,
   "metadata": {},
   "outputs": [
    {
     "data": {
      "image/png": "[encoded data removed]",
      "text/plain": [
       "<matplotlib.figure.Figure at 0x2a500f6dac8>"
      ]
     },
     "metadata": {},
     "output_type": "display_data"
    }
   ],
   "source": [
    "data['apn'] = data['age']/(data.net)**2\n",
    "data['npa'] = data['net']**2/(data.age)\n",
    "strongyoung = data[(data.net < 140) & (data.age < 25)]\n",
    "strongelder = data[(data.net < 200) & (data.age > 60)]\n",
    "plt.plot( 'apn', 'npa', data=data, linestyle='none', marker='o')\n",
    "plt.plot( 'apn', 'npa', data=strongyoung, linestyle='none', marker='o')\n",
    "plt.plot( 'apn', 'npa', data=strongelder, linestyle='none', marker='o')\n",
    "plt.show()"
   ]
  },
  {
   "cell_type": "code",
   "execution_count": 59,
   "metadata": {
    "collapsed": true
   },
   "outputs": [],
   "source": [
    "datam = data.drop(data[data.gender == \"F\"].index)\n",
    "datam = datam.drop(datam[datam.bib.str.contains(\"W\")==True].index)\n",
    "cols = ['apn','npa']\n",
    "datatrain = datam[cols]"
   ]
  },
  {
   "cell_type": "code",
   "execution_count": 60,
   "metadata": {},
   "outputs": [
    {
     "data": {
      "text/html": [
       "<div>\n",
       "<style>\n",
       "    .dataframe thead tr:only-child th {\n",
       "        text-align: right;\n",
       "    }\n",
       "\n",
       "    .dataframe thead th {\n",
       "        text-align: left;\n",
       "    }\n",
       "\n",
       "    .dataframe tbody tr th {\n",
       "        vertical-align: top;\n",
       "    }\n",
       "</style>\n",
       "<table border=\"1\" class=\"dataframe\">\n",
       "  <thead>\n",
       "    <tr style=\"text-align: right;\">\n",
       "      <th></th>\n",
       "      <th>apn</th>\n",
       "      <th>npa</th>\n",
       "    </tr>\n",
       "  </thead>\n",
       "  <tbody>\n",
       "    <tr>\n",
       "      <th>1</th>\n",
       "      <td>0.001322</td>\n",
       "      <td>756.629070</td>\n",
       "    </tr>\n",
       "    <tr>\n",
       "      <th>5</th>\n",
       "      <td>0.001242</td>\n",
       "      <td>805.255000</td>\n",
       "    </tr>\n",
       "    <tr>\n",
       "      <th>7</th>\n",
       "      <td>0.001428</td>\n",
       "      <td>700.234804</td>\n",
       "    </tr>\n",
       "    <tr>\n",
       "      <th>11</th>\n",
       "      <td>0.001417</td>\n",
       "      <td>705.955015</td>\n",
       "    </tr>\n",
       "    <tr>\n",
       "      <th>15</th>\n",
       "      <td>0.001648</td>\n",
       "      <td>606.942376</td>\n",
       "    </tr>\n",
       "  </tbody>\n",
       "</table>\n",
       "</div>"
      ],
      "text/plain": [
       "         apn         npa\n",
       "1   0.001322  756.629070\n",
       "5   0.001242  805.255000\n",
       "7   0.001428  700.234804\n",
       "11  0.001417  705.955015\n",
       "15  0.001648  606.942376"
      ]
     },
     "execution_count": 60,
     "metadata": {},
     "output_type": "execute_result"
    }
   ],
   "source": [
    "\n",
    "datatrain.head()"
   ]
  },
  {
   "cell_type": "code",
   "execution_count": 61,
   "metadata": {},
   "outputs": [
    {
     "name": "stdout",
     "output_type": "stream",
     "text": [
      "Centers found by scikit-learn:\n",
      "[[2.28158946e-04 4.50967410e+03]\n",
      " [6.00074385e-04 1.69355377e+03]\n",
      " [3.76757818e-04 2.70412858e+03]\n",
      " [9.37389709e-04 1.09954908e+03]]\n"
     ]
    },
    {
     "data": {
      "image/png": "[encoded data removed]",
      "text/plain": [
       "<matplotlib.figure.Figure at 0x2a500e5c208>"
      ]
     },
     "metadata": {},
     "output_type": "display_data"
    }
   ],
   "source": [
    "\n",
    "n = 4\n",
    "from sklearn.cluster import KMeans\n",
    "import numpy as np\n",
    "kmeans = KMeans(n_clusters=n, init='random', n_init=10, max_iter=300, tol=0.0001, precompute_distances='auto', verbose=0, random_state=None, copy_x=True, n_jobs=1, algorithm='auto').fit(datatrain)\n",
    "print ('Centers found by scikit-learn:')\n",
    "print (kmeans.cluster_centers_)\n",
    "pred_label = kmeans.predict(datatrain)\n",
    "datam['label'] = pred_label\n",
    "for i in range(n):\n",
    "    plt.plot( 'age', 'net', data=datam[datam.label == i], linestyle='none', marker='o')\n",
    "\n",
    "plt.show()"
   ]
  },
  {
   "cell_type": "markdown",
   "metadata": {},
   "source": [
    "Kết quả nhân được tốt hơn"
   ]
  },
  {
   "cell_type": "code",
   "execution_count": 62,
   "metadata": {
    "scrolled": true
   },
   "outputs": [
    {
     "name": "stdout",
     "output_type": "stream",
     "text": [
      "n_cluster =  2 : score =  0.7051943742453152\n",
      "n_cluster =  3 : score =  0.6215708190208444\n",
      "n_cluster =  4 : score =  0.5677432901222276\n",
      "n_cluster =  5 : score =  0.5485811692783087\n",
      "n_cluster =  6 : score =  0.5326641909432964\n",
      "n_cluster =  7 : score =  0.5294571069535843\n",
      "n_cluster =  8 : score =  0.5292341401992225\n",
      "n_cluster =  9 : score =  0.5240367259008982\n"
     ]
    }
   ],
   "source": [
    "\n",
    "from sklearn.metrics import silhouette_score\n",
    "for i in range(2,10):\n",
    "    kmean = KMeans(n_clusters = i).fit(datatrain)\n",
    "    pred_label = kmean.predict(datatrain)\n",
    "    print(\"n_cluster = \",i,\": score = \",silhouette_score(datatrain,pred_label))"
   ]
  },
  {
   "cell_type": "code",
   "execution_count": 63,
   "metadata": {
    "scrolled": true
   },
   "outputs": [
    {
     "name": "stdout",
     "output_type": "stream",
     "text": [
      "Centers found by scikit-learn:\n",
      "[[4.82279977e-04 2.12982349e+03]\n",
      " [8.73803662e-04 1.19559895e+03]\n",
      " [2.70026499e-04 3.85152816e+03]]\n"
     ]
    },
    {
     "data": {
      "image/png": "[encoded data removed]",
      "text/plain": [
       "<matplotlib.figure.Figure at 0x2a500507d30>"
      ]
     },
     "metadata": {},
     "output_type": "display_data"
    }
   ],
   "source": [
    "n = 3\n",
    "kmeans = KMeans(n_clusters=n).fit(datatrain)\n",
    "print ('Centers found by scikit-learn:')\n",
    "print (kmeans.cluster_centers_)\n",
    "pred_label = kmeans.predict(datatrain)\n",
    "datam['label'] = pred_label\n",
    "for i in range(n):\n",
    "    plt.plot( 'age', 'net', data=datam[datam.label == i], linestyle='none', marker='o')\n",
    "\n",
    "plt.show()"
   ]
  },
  {
   "cell_type": "code",
   "execution_count": null,
   "metadata": {
    "collapsed": true
   },
   "outputs": [],
   "source": []
  },
  {
   "cell_type": "code",
   "execution_count": null,
   "metadata": {
    "collapsed": true,
    "scrolled": true
   },
   "outputs": [],
   "source": []
  },
  {
   "cell_type": "code",
   "execution_count": null,
   "metadata": {
    "collapsed": true
   },
   "outputs": [],
   "source": []
  },
  {
   "cell_type": "code",
   "execution_count": null,
   "metadata": {
    "collapsed": true
   },
   "outputs": [],
   "source": []
  },
  {
   "cell_type": "code",
   "execution_count": null,
   "metadata": {
    "collapsed": true
   },
   "outputs": [],
   "source": []
  },
  {
   "cell_type": "code",
   "execution_count": null,
   "metadata": {
    "collapsed": true
   },
   "outputs": [],
   "source": []
  },
  {
   "cell_type": "code",
   "execution_count": 64,
   "metadata": {
    "scrolled": true
   },
   "outputs": [
    {
     "name": "stdout",
     "output_type": "stream",
     "text": [
      "Centers found by scikit-learn:\n",
      "[[6.63657652e-04 1.56383374e+03]\n",
      " [3.82564911e-04 2.67657146e+03]\n",
      " [2.20426676e-04 4.67714223e+03]]\n"
     ]
    },
    {
     "data": {
      "image/png": "[encoded data removed]",
      "text/plain": [
       "<matplotlib.figure.Figure at 0x2a500626d68>"
      ]
     },
     "metadata": {},
     "output_type": "display_data"
    }
   ],
   "source": [
    "# phân loại cho dữ liệu là nữ:\n",
    "dataF = data.drop(data[data.gender == \"M\"].index)\n",
    "dataF = dataF.drop(dataF[dataF.bib.str.contains(\"W\")==True].index)\n",
    "cols = ['apn','npa']\n",
    "datatrain = dataF[cols]\n",
    "n = 3\n",
    "from sklearn.cluster import KMeans\n",
    "import numpy as np\n",
    "kmeans = KMeans(n_clusters=n, init='random', n_init=10, max_iter=300, tol=0.0001, precompute_distances='auto', verbose=0, random_state=None, copy_x=True, n_jobs=1, algorithm='auto').fit(datatrain)\n",
    "print ('Centers found by scikit-learn:')\n",
    "print (kmeans.cluster_centers_)\n",
    "pred_label = kmeans.predict(datatrain)\n",
    "dataF['label'] = pred_label\n",
    "for i in range(n):\n",
    "    plt.plot( 'age', 'net', data=dataF[dataF.label == i], linestyle='none', marker='o')\n",
    "\n",
    "plt.show()"
   ]
  },
  {
   "cell_type": "code",
   "execution_count": 65,
   "metadata": {},
   "outputs": [
    {
     "name": "stdout",
     "output_type": "stream",
     "text": [
      "n_cluster =  2 : score =  0.7036214076797992\n",
      "n_cluster =  3 : score =  0.6194979423524883\n",
      "n_cluster =  4 : score =  0.5605027594668206\n",
      "n_cluster =  5 : score =  0.5404260169317686\n",
      "n_cluster =  6 : score =  0.5342341657249505\n",
      "n_cluster =  7 : score =  0.5309343824357386\n",
      "n_cluster =  8 : score =  0.5289203783036934\n",
      "n_cluster =  9 : score =  0.526349155451602\n"
     ]
    }
   ],
   "source": [
    "from sklearn.metrics import silhouette_score\n",
    "for i in range(2,10):\n",
    "    kmean = KMeans(n_clusters = i).fit(datatrain)\n",
    "    pred_label = kmean.predict(datatrain)\n",
    "    print(\"n_cluster = \",i,\": score = \",silhouette_score(datatrain,pred_label))"
   ]
  },
  {
   "cell_type": "code",
   "execution_count": null,
   "metadata": {
    "collapsed": true
   },
   "outputs": [],
   "source": []
  },
  {
   "cell_type": "code",
   "execution_count": null,
   "metadata": {
    "collapsed": true
   },
   "outputs": [],
   "source": []
  },
  {
   "cell_type": "code",
   "execution_count": 66,
   "metadata": {
    "scrolled": true
   },
   "outputs": [
    {
     "name": "stdout",
     "output_type": "stream",
     "text": [
      "Centers found by scikit-learn:\n",
      "[[ 35.42857143 154.71571429]\n",
      " [ 32.75        96.4675    ]]\n"
     ]
    },
    {
     "name": "stderr",
     "output_type": "stream",
     "text": [
      "C:\\ProgramData\\Anaconda3\\lib\\site-packages\\ipykernel_launcher.py:13: SettingWithCopyWarning: \n",
      "A value is trying to be set on a copy of a slice from a DataFrame.\n",
      "Try using .loc[row_indexer,col_indexer] = value instead\n",
      "\n",
      "See the caveats in the documentation: http://pandas.pydata.org/pandas-docs/stable/indexing.html#indexing-view-versus-copy\n",
      "  del sys.path[0]\n"
     ]
    },
    {
     "data": {
      "image/png": "[encoded data removed]",
      "text/plain": [
       "<matplotlib.figure.Figure at 0x2a55da06240>"
      ]
     },
     "metadata": {},
     "output_type": "display_data"
    }
   ],
   "source": [
    "# phân loại cho dữ liệu là người khuyết tật:\n",
    "# chỉ chia thành 2 loại\n",
    "dataw = data[data.bib.str.contains(\"W\")==True]\n",
    "cols = ['age','net']\n",
    "datatrain = dataw[cols]\n",
    "n = 2\n",
    "from sklearn.cluster import KMeans\n",
    "import numpy as np\n",
    "kmeans = KMeans(n_clusters=n, init='random', n_init=10, max_iter=300, tol=0.0001, precompute_distances='auto', verbose=0, random_state=None, copy_x=True, n_jobs=1, algorithm='auto').fit(datatrain)\n",
    "print ('Centers found by scikit-learn:')\n",
    "print (kmeans.cluster_centers_)\n",
    "pred_label = kmeans.predict(datatrain)\n",
    "dataw['label'] = pred_label\n",
    "for i in range(n):\n",
    "    plt.plot( 'age', 'net', data=dataw[dataw.label == i], linestyle='none', marker='o')\n",
    "\n",
    "plt.show()"
   ]
  },
  {
   "cell_type": "code",
   "execution_count": null,
   "metadata": {
    "collapsed": true
   },
   "outputs": [],
   "source": []
  },
  {
   "cell_type": "code",
   "execution_count": null,
   "metadata": {
    "collapsed": true
   },
   "outputs": [],
   "source": []
  }
 ],
 "metadata": {
  "kernelspec": {
   "display_name": "Python 3",
   "language": "python",
   "name": "python3"
  },
  "language_info": {
   "codemirror_mode": {
    "name": "ipython",
    "version": 3
   },
   "file_extension": ".py",
   "mimetype": "text/x-python",
   "name": "python",
   "nbconvert_exporter": "python",
   "pygments_lexer": "ipython3",
   "version": "3.6.3"
  }
 },
 "nbformat": 4,
 "nbformat_minor": 2
}
