{
 "cells": [
  {
   "cell_type": "code",
   "execution_count": 87,
   "metadata": {
    "collapsed": true
   },
   "outputs": [],
   "source": [
    "import pandas as pd\n",
    "import matplotlib.pyplot as plt\n",
    "import math\n"
   ]
  },
  {
   "cell_type": "code",
   "execution_count": 88,
   "metadata": {
    "collapsed": true
   },
   "outputs": [],
   "source": [
    "data = pd.read_csv(\"results.csv\")"
   ]
  },
  {
   "cell_type": "code",
   "execution_count": 89,
   "metadata": {
    "scrolled": false
   },
   "outputs": [
    {
     "data": {
      "text/html": [
       "<div>\n",
       "<style>\n",
       "    .dataframe thead tr:only-child th {\n",
       "        text-align: right;\n",
       "    }\n",
       "\n",
       "    .dataframe thead th {\n",
       "        text-align: left;\n",
       "    }\n",
       "\n",
       "    .dataframe tbody tr th {\n",
       "        vertical-align: top;\n",
       "    }\n",
       "</style>\n",
       "<table border=\"1\" class=\"dataframe\">\n",
       "  <thead>\n",
       "    <tr style=\"text-align: right;\">\n",
       "      <th></th>\n",
       "      <th>division</th>\n",
       "      <th>name</th>\n",
       "      <th>city</th>\n",
       "      <th>gender</th>\n",
       "      <th>age</th>\n",
       "      <th>official</th>\n",
       "      <th>bib</th>\n",
       "      <th>overall</th>\n",
       "      <th>state</th>\n",
       "      <th>genderdiv</th>\n",
       "      <th>net</th>\n",
       "      <th>country</th>\n",
       "    </tr>\n",
       "  </thead>\n",
       "  <tbody>\n",
       "    <tr>\n",
       "      <th>0</th>\n",
       "      <td>4        / 26</td>\n",
       "      <td>Soejima, Masazumi</td>\n",
       "      <td>Fukuoka City</td>\n",
       "      <td>M</td>\n",
       "      <td>41</td>\n",
       "      <td>83.45</td>\n",
       "      <td>W1</td>\n",
       "      <td>4        / 35</td>\n",
       "      <td>NaN</td>\n",
       "      <td>4        / 26</td>\n",
       "      <td>83.45</td>\n",
       "      <td>JPN</td>\n",
       "    </tr>\n",
       "    <tr>\n",
       "      <th>1</th>\n",
       "      <td>14       / 4335</td>\n",
       "      <td>Gebremariam, Gebregziabher</td>\n",
       "      <td>Tigray</td>\n",
       "      <td>M</td>\n",
       "      <td>27</td>\n",
       "      <td>142.93</td>\n",
       "      <td>2</td>\n",
       "      <td>14       / 21616</td>\n",
       "      <td>NaN</td>\n",
       "      <td>14       / 12621</td>\n",
       "      <td>142.93</td>\n",
       "      <td>ETH</td>\n",
       "    </tr>\n",
       "    <tr>\n",
       "      <th>2</th>\n",
       "      <td>6        / 26</td>\n",
       "      <td>Van Dyk, Ernst F.</td>\n",
       "      <td>Paarl</td>\n",
       "      <td>M</td>\n",
       "      <td>39</td>\n",
       "      <td>84.38</td>\n",
       "      <td>W2</td>\n",
       "      <td>6        / 35</td>\n",
       "      <td>NaN</td>\n",
       "      <td>6        / 26</td>\n",
       "      <td>84.38</td>\n",
       "      <td>RSA</td>\n",
       "    </tr>\n",
       "    <tr>\n",
       "      <th>3</th>\n",
       "      <td>2        / 26</td>\n",
       "      <td>Fearnley, Kurt H.</td>\n",
       "      <td>Hamilton</td>\n",
       "      <td>M</td>\n",
       "      <td>31</td>\n",
       "      <td>81.65</td>\n",
       "      <td>W3</td>\n",
       "      <td>2        / 35</td>\n",
       "      <td>NaN</td>\n",
       "      <td>2        / 26</td>\n",
       "      <td>81.65</td>\n",
       "      <td>AUS</td>\n",
       "    </tr>\n",
       "    <tr>\n",
       "      <th>4</th>\n",
       "      <td>3        / 26</td>\n",
       "      <td>Hokinoue, Kota</td>\n",
       "      <td>Iizuka</td>\n",
       "      <td>M</td>\n",
       "      <td>38</td>\n",
       "      <td>83.43</td>\n",
       "      <td>W4</td>\n",
       "      <td>3        / 35</td>\n",
       "      <td>NaN</td>\n",
       "      <td>3        / 26</td>\n",
       "      <td>83.43</td>\n",
       "      <td>JPN</td>\n",
       "    </tr>\n",
       "  </tbody>\n",
       "</table>\n",
       "</div>"
      ],
      "text/plain": [
       "          division                        name          city gender  age  \\\n",
       "0    4        / 26           Soejima, Masazumi  Fukuoka City      M   41   \n",
       "1  14       / 4335  Gebremariam, Gebregziabher        Tigray      M   27   \n",
       "2    6        / 26           Van Dyk, Ernst F.         Paarl      M   39   \n",
       "3    2        / 26           Fearnley, Kurt H.      Hamilton      M   31   \n",
       "4    3        / 26              Hokinoue, Kota        Iizuka      M   38   \n",
       "\n",
       "  official bib           overall state         genderdiv     net country  \n",
       "0    83.45  W1     4        / 35   NaN     4        / 26   83.45     JPN  \n",
       "1   142.93   2  14       / 21616   NaN  14       / 12621  142.93     ETH  \n",
       "2    84.38  W2     6        / 35   NaN     6        / 26   84.38     RSA  \n",
       "3    81.65  W3     2        / 35   NaN     2        / 26   81.65     AUS  \n",
       "4    83.43  W4     3        / 35   NaN     3        / 26   83.43     JPN  "
      ]
     },
     "execution_count": 89,
     "metadata": {},
     "output_type": "execute_result"
    }
   ],
   "source": [
    "data.head()"
   ]
  },
  {
   "cell_type": "code",
   "execution_count": 90,
   "metadata": {
    "collapsed": true
   },
   "outputs": [],
   "source": [
    "# chọn dữ liệu là nam và không bị khuyết tật.\n"
   ]
  },
  {
   "cell_type": "code",
   "execution_count": 91,
   "metadata": {},
   "outputs": [
    {
     "data": {
      "text/html": [
       "<div>\n",
       "<style>\n",
       "    .dataframe thead tr:only-child th {\n",
       "        text-align: right;\n",
       "    }\n",
       "\n",
       "    .dataframe thead th {\n",
       "        text-align: left;\n",
       "    }\n",
       "\n",
       "    .dataframe tbody tr th {\n",
       "        vertical-align: top;\n",
       "    }\n",
       "</style>\n",
       "<table border=\"1\" class=\"dataframe\">\n",
       "  <thead>\n",
       "    <tr style=\"text-align: right;\">\n",
       "      <th></th>\n",
       "      <th>division</th>\n",
       "      <th>name</th>\n",
       "      <th>city</th>\n",
       "      <th>gender</th>\n",
       "      <th>age</th>\n",
       "      <th>official</th>\n",
       "      <th>bib</th>\n",
       "      <th>overall</th>\n",
       "      <th>state</th>\n",
       "      <th>genderdiv</th>\n",
       "      <th>net</th>\n",
       "      <th>country</th>\n",
       "    </tr>\n",
       "  </thead>\n",
       "  <tbody>\n",
       "    <tr>\n",
       "      <th>count</th>\n",
       "      <td>21652</td>\n",
       "      <td>21652</td>\n",
       "      <td>21652</td>\n",
       "      <td>21652</td>\n",
       "      <td>21652.000000</td>\n",
       "      <td>21652</td>\n",
       "      <td>21652</td>\n",
       "      <td>21652</td>\n",
       "      <td>19880</td>\n",
       "      <td>21652</td>\n",
       "      <td>21652.00000</td>\n",
       "      <td>21652</td>\n",
       "    </tr>\n",
       "    <tr>\n",
       "      <th>unique</th>\n",
       "      <td>21652</td>\n",
       "      <td>21621</td>\n",
       "      <td>4975</td>\n",
       "      <td>2</td>\n",
       "      <td>NaN</td>\n",
       "      <td>9570</td>\n",
       "      <td>21652</td>\n",
       "      <td>21652</td>\n",
       "      <td>67</td>\n",
       "      <td>21652</td>\n",
       "      <td>NaN</td>\n",
       "      <td>60</td>\n",
       "    </tr>\n",
       "    <tr>\n",
       "      <th>top</th>\n",
       "      <td>212      / 262</td>\n",
       "      <td>Johnson, David J</td>\n",
       "      <td>Boston</td>\n",
       "      <td>M</td>\n",
       "      <td>NaN</td>\n",
       "      <td>-</td>\n",
       "      <td>15913</td>\n",
       "      <td>954      / 21616</td>\n",
       "      <td>MA</td>\n",
       "      <td>9569     / 12621</td>\n",
       "      <td>NaN</td>\n",
       "      <td>USA</td>\n",
       "    </tr>\n",
       "    <tr>\n",
       "      <th>freq</th>\n",
       "      <td>1</td>\n",
       "      <td>2</td>\n",
       "      <td>500</td>\n",
       "      <td>12648</td>\n",
       "      <td>NaN</td>\n",
       "      <td>76</td>\n",
       "      <td>1</td>\n",
       "      <td>1</td>\n",
       "      <td>4030</td>\n",
       "      <td>1</td>\n",
       "      <td>NaN</td>\n",
       "      <td>18064</td>\n",
       "    </tr>\n",
       "    <tr>\n",
       "      <th>mean</th>\n",
       "      <td>NaN</td>\n",
       "      <td>NaN</td>\n",
       "      <td>NaN</td>\n",
       "      <td>NaN</td>\n",
       "      <td>41.836135</td>\n",
       "      <td>NaN</td>\n",
       "      <td>NaN</td>\n",
       "      <td>NaN</td>\n",
       "      <td>NaN</td>\n",
       "      <td>NaN</td>\n",
       "      <td>258.64258</td>\n",
       "      <td>NaN</td>\n",
       "    </tr>\n",
       "    <tr>\n",
       "      <th>std</th>\n",
       "      <td>NaN</td>\n",
       "      <td>NaN</td>\n",
       "      <td>NaN</td>\n",
       "      <td>NaN</td>\n",
       "      <td>10.858308</td>\n",
       "      <td>NaN</td>\n",
       "      <td>NaN</td>\n",
       "      <td>NaN</td>\n",
       "      <td>NaN</td>\n",
       "      <td>NaN</td>\n",
       "      <td>49.94535</td>\n",
       "      <td>NaN</td>\n",
       "    </tr>\n",
       "    <tr>\n",
       "      <th>min</th>\n",
       "      <td>NaN</td>\n",
       "      <td>NaN</td>\n",
       "      <td>NaN</td>\n",
       "      <td>NaN</td>\n",
       "      <td>18.000000</td>\n",
       "      <td>NaN</td>\n",
       "      <td>NaN</td>\n",
       "      <td>NaN</td>\n",
       "      <td>NaN</td>\n",
       "      <td>NaN</td>\n",
       "      <td>78.42000</td>\n",
       "      <td>NaN</td>\n",
       "    </tr>\n",
       "    <tr>\n",
       "      <th>25%</th>\n",
       "      <td>NaN</td>\n",
       "      <td>NaN</td>\n",
       "      <td>NaN</td>\n",
       "      <td>NaN</td>\n",
       "      <td>33.000000</td>\n",
       "      <td>NaN</td>\n",
       "      <td>NaN</td>\n",
       "      <td>NaN</td>\n",
       "      <td>NaN</td>\n",
       "      <td>NaN</td>\n",
       "      <td>224.63000</td>\n",
       "      <td>NaN</td>\n",
       "    </tr>\n",
       "    <tr>\n",
       "      <th>50%</th>\n",
       "      <td>NaN</td>\n",
       "      <td>NaN</td>\n",
       "      <td>NaN</td>\n",
       "      <td>NaN</td>\n",
       "      <td>42.000000</td>\n",
       "      <td>NaN</td>\n",
       "      <td>NaN</td>\n",
       "      <td>NaN</td>\n",
       "      <td>NaN</td>\n",
       "      <td>NaN</td>\n",
       "      <td>251.07500</td>\n",
       "      <td>NaN</td>\n",
       "    </tr>\n",
       "    <tr>\n",
       "      <th>75%</th>\n",
       "      <td>NaN</td>\n",
       "      <td>NaN</td>\n",
       "      <td>NaN</td>\n",
       "      <td>NaN</td>\n",
       "      <td>50.000000</td>\n",
       "      <td>NaN</td>\n",
       "      <td>NaN</td>\n",
       "      <td>NaN</td>\n",
       "      <td>NaN</td>\n",
       "      <td>NaN</td>\n",
       "      <td>285.53000</td>\n",
       "      <td>NaN</td>\n",
       "    </tr>\n",
       "    <tr>\n",
       "      <th>max</th>\n",
       "      <td>NaN</td>\n",
       "      <td>NaN</td>\n",
       "      <td>NaN</td>\n",
       "      <td>NaN</td>\n",
       "      <td>83.000000</td>\n",
       "      <td>NaN</td>\n",
       "      <td>NaN</td>\n",
       "      <td>NaN</td>\n",
       "      <td>NaN</td>\n",
       "      <td>NaN</td>\n",
       "      <td>570.27000</td>\n",
       "      <td>NaN</td>\n",
       "    </tr>\n",
       "  </tbody>\n",
       "</table>\n",
       "</div>"
      ],
      "text/plain": [
       "              division              name    city gender           age  \\\n",
       "count            21652             21652   21652  21652  21652.000000   \n",
       "unique           21652             21621    4975      2           NaN   \n",
       "top     212      / 262  Johnson, David J  Boston      M           NaN   \n",
       "freq                 1                 2     500  12648           NaN   \n",
       "mean               NaN               NaN     NaN    NaN     41.836135   \n",
       "std                NaN               NaN     NaN    NaN     10.858308   \n",
       "min                NaN               NaN     NaN    NaN     18.000000   \n",
       "25%                NaN               NaN     NaN    NaN     33.000000   \n",
       "50%                NaN               NaN     NaN    NaN     42.000000   \n",
       "75%                NaN               NaN     NaN    NaN     50.000000   \n",
       "max                NaN               NaN     NaN    NaN     83.000000   \n",
       "\n",
       "       official    bib           overall  state         genderdiv  \\\n",
       "count     21652  21652             21652  19880             21652   \n",
       "unique     9570  21652             21652     67             21652   \n",
       "top           -  15913  954      / 21616     MA  9569     / 12621   \n",
       "freq         76      1                 1   4030                 1   \n",
       "mean        NaN    NaN               NaN    NaN               NaN   \n",
       "std         NaN    NaN               NaN    NaN               NaN   \n",
       "min         NaN    NaN               NaN    NaN               NaN   \n",
       "25%         NaN    NaN               NaN    NaN               NaN   \n",
       "50%         NaN    NaN               NaN    NaN               NaN   \n",
       "75%         NaN    NaN               NaN    NaN               NaN   \n",
       "max         NaN    NaN               NaN    NaN               NaN   \n",
       "\n",
       "                net country  \n",
       "count   21652.00000   21652  \n",
       "unique          NaN      60  \n",
       "top             NaN     USA  \n",
       "freq            NaN   18064  \n",
       "mean      258.64258     NaN  \n",
       "std        49.94535     NaN  \n",
       "min        78.42000     NaN  \n",
       "25%       224.63000     NaN  \n",
       "50%       251.07500     NaN  \n",
       "75%       285.53000     NaN  \n",
       "max       570.27000     NaN  "
      ]
     },
     "execution_count": 91,
     "metadata": {},
     "output_type": "execute_result"
    }
   ],
   "source": [
    "data.describe(include='all')"
   ]
  },
  {
   "cell_type": "code",
   "execution_count": 92,
   "metadata": {
    "scrolled": true
   },
   "outputs": [
    {
     "data": {
      "text/plain": [
       "division      object\n",
       "name          object\n",
       "city          object\n",
       "gender        object\n",
       "age            int64\n",
       "official      object\n",
       "bib           object\n",
       "overall       object\n",
       "state         object\n",
       "genderdiv     object\n",
       "net          float64\n",
       "country       object\n",
       "dtype: object"
      ]
     },
     "execution_count": 92,
     "metadata": {},
     "output_type": "execute_result"
    }
   ],
   "source": [
    "data.dtypes"
   ]
  },
  {
   "cell_type": "code",
   "execution_count": 93,
   "metadata": {},
   "outputs": [
    {
     "data": {
      "text/plain": [
       "MA    4030\n",
       "CA    1590\n",
       "NY    1161\n",
       "ON     945\n",
       "TX     770\n",
       "PA     748\n",
       "IL     657\n",
       "FL     565\n",
       "OH     554\n",
       "VA     546\n",
       "NC     466\n",
       "MI     457\n",
       "NJ     426\n",
       "WA     422\n",
       "CO     417\n",
       "MN     408\n",
       "MD     396\n",
       "WI     369\n",
       "GA     294\n",
       "NH     293\n",
       "CT     290\n",
       "UT     260\n",
       "QC     260\n",
       "IN     211\n",
       "AZ     210\n",
       "OR     206\n",
       "TN     201\n",
       "BC     197\n",
       "AB     174\n",
       "MO     169\n",
       "      ... \n",
       "KS     115\n",
       "NE      88\n",
       "NS      86\n",
       "ID      86\n",
       "VT      79\n",
       "MT      70\n",
       "NV      67\n",
       "OK      60\n",
       "LA      56\n",
       "AR      52\n",
       "HI      50\n",
       "NB      50\n",
       "NM      50\n",
       "DE      47\n",
       "MS      41\n",
       "MB      38\n",
       "AK      36\n",
       "WV      33\n",
       "ND      27\n",
       "SK      26\n",
       "SD      24\n",
       "WY      19\n",
       "NL      19\n",
       "PE      15\n",
       "AE       9\n",
       "PR       7\n",
       "YT       4\n",
       "NT       1\n",
       "AA       1\n",
       "AP       1\n",
       "Name: state, Length: 67, dtype: int64"
      ]
     },
     "execution_count": 93,
     "metadata": {},
     "output_type": "execute_result"
    }
   ],
   "source": [
    "data.state.value_counts()"
   ]
  },
  {
   "cell_type": "code",
   "execution_count": 94,
   "metadata": {
    "scrolled": true
   },
   "outputs": [
    {
     "data": {
      "image/png": "[encoded data removed]",
      "text/plain": [
       "<matplotlib.figure.Figure at 0x1b144f79860>"
      ]
     },
     "metadata": {},
     "output_type": "display_data"
    }
   ],
   "source": [
    "import seaborn as sns\n",
    "conditions = [\n",
    "    (data.bib.str.contains(\"W\")==True),\n",
    "    (data.bib.str.contains(\"F\")==True)]\n",
    "choices = ['W','F']\n",
    "data['cls'] = np.select(conditions, choices, default='M')\n",
    "ax = sns.boxplot(x='cls',y='net',data=data)\n",
    "ax.set_title('Comparison of Mean DepartureTime by UniqueCarrier')\n",
    "plt.show()"
   ]
  },
  {
   "cell_type": "code",
   "execution_count": 95,
   "metadata": {},
   "outputs": [
    {
     "data": {
      "image/png": "[encoded data removed]",
      "text/plain": [
       "<matplotlib.figure.Figure at 0x1b1459b3748>"
      ]
     },
     "metadata": {},
     "output_type": "display_data"
    }
   ],
   "source": [
    "\n",
    "ax = sns.boxplot(x='age',y='net',data=data)\n",
    "ax.set_title('Comparison of Mean DepartureTime by UniqueCarrier')\n",
    "plt.show()"
   ]
  },
  {
   "cell_type": "code",
   "execution_count": 96,
   "metadata": {
    "collapsed": true
   },
   "outputs": [],
   "source": [
    "#trung bình người khuyết tật hooàn thành nhanh nhất, đến phụ nữ và đàn ông\n",
    "#sự trênh lệch về thời gian rõ rệt ở đàn ông\n",
    "#"
   ]
  },
  {
   "cell_type": "markdown",
   "metadata": {},
   "source": [
    "# Phân loại thể lực dựa trên số tuổi và thời gian chạy."
   ]
  },
  {
   "cell_type": "code",
   "execution_count": 97,
   "metadata": {
    "scrolled": true
   },
   "outputs": [
    {
     "name": "stdout",
     "output_type": "stream",
     "text": [
      "Centers found by scikit-learn:\n",
      "[[ 45.04983453 295.85859646]\n",
      " [ 37.23674974 204.37401018]\n",
      " [ 44.16406643 365.32457977]\n",
      " [ 42.41064553 248.00458437]]\n"
     ]
    },
    {
     "data": {
      "image/png": "[encoded data removed]",
      "text/plain": [
       "<matplotlib.figure.Figure at 0x1b146be2f98>"
      ]
     },
     "metadata": {},
     "output_type": "display_data"
    }
   ],
   "source": [
    "#KMeans with age and net\n",
    "cols = ['age','net']\n",
    "datatrain = data[cols]\n",
    "\n",
    "n = 4\n",
    "from sklearn.cluster import KMeans\n",
    "import numpy as np\n",
    "kmeans = KMeans(n_clusters=n, init='random', n_init=10, max_iter=300, tol=0.0001, precompute_distances='auto', verbose=0, random_state=None, copy_x=True, n_jobs=1, algorithm='auto').fit(datatrain)\n",
    "print ('Centers found by scikit-learn:')\n",
    "print (kmeans.cluster_centers_)\n",
    "pred_label = kmeans.predict(datatrain)\n",
    "data['label'] = pred_label\n",
    "for i in range(n):\n",
    "    plt.plot( 'age', 'net', data=data[data.label == i], linestyle='none', marker='o')\n",
    "\n",
    "plt.show()"
   ]
  },
  {
   "cell_type": "code",
   "execution_count": 98,
   "metadata": {
    "collapsed": true
   },
   "outputs": [],
   "source": [
    "#kết quả nhận được không hợp lí. phân loại thể lực là như nhau giữa các độ tuổi."
   ]
  },
  {
   "cell_type": "code",
   "execution_count": 99,
   "metadata": {
    "collapsed": true,
    "scrolled": true
   },
   "outputs": [],
   "source": [
    "#Tạo dữ liệu mới\n",
    "#cần làm cho khỏang cách giữa những điểm là người có thành tích tốt theo độ tuổi gần nhau hơn \n",
    "data['apn'] = data['age']/(data.net)\n",
    "data['npa'] = data['net']**2/(data.age)\n"
   ]
  },
  {
   "cell_type": "code",
   "execution_count": 100,
   "metadata": {
    "scrolled": false
   },
   "outputs": [
    {
     "data": {
      "image/png": "[encoded data removed]",
      "text/plain": [
       "<matplotlib.figure.Figure at 0x1b146bcf6a0>"
      ]
     },
     "metadata": {},
     "output_type": "display_data"
    }
   ],
   "source": [
    "plt.plot( 'apn', 'npa', data=data, linestyle='none', marker='o')\n",
    "plt.show()"
   ]
  },
  {
   "cell_type": "code",
   "execution_count": null,
   "metadata": {
    "collapsed": true
   },
   "outputs": [],
   "source": []
  },
  {
   "cell_type": "code",
   "execution_count": 101,
   "metadata": {},
   "outputs": [],
   "source": [
    "datam = data.drop(data[data.gender == \"F\"].index)\n",
    "datam = datam.drop(datam[datam.bib.str.contains(\"W\")==True].index)\n",
    "cols = ['apn','npa']\n",
    "datatrain = datam[cols]"
   ]
  },
  {
   "cell_type": "code",
   "execution_count": 102,
   "metadata": {},
   "outputs": [
    {
     "data": {
      "text/html": [
       "<div>\n",
       "<style>\n",
       "    .dataframe thead tr:only-child th {\n",
       "        text-align: right;\n",
       "    }\n",
       "\n",
       "    .dataframe thead th {\n",
       "        text-align: left;\n",
       "    }\n",
       "\n",
       "    .dataframe tbody tr th {\n",
       "        vertical-align: top;\n",
       "    }\n",
       "</style>\n",
       "<table border=\"1\" class=\"dataframe\">\n",
       "  <thead>\n",
       "    <tr style=\"text-align: right;\">\n",
       "      <th></th>\n",
       "      <th>apn</th>\n",
       "      <th>npa</th>\n",
       "    </tr>\n",
       "  </thead>\n",
       "  <tbody>\n",
       "    <tr>\n",
       "      <th>1</th>\n",
       "      <td>0.188904</td>\n",
       "      <td>756.629070</td>\n",
       "    </tr>\n",
       "    <tr>\n",
       "      <th>5</th>\n",
       "      <td>0.165289</td>\n",
       "      <td>805.255000</td>\n",
       "    </tr>\n",
       "    <tr>\n",
       "      <th>7</th>\n",
       "      <td>0.192693</td>\n",
       "      <td>700.234804</td>\n",
       "    </tr>\n",
       "    <tr>\n",
       "      <th>11</th>\n",
       "      <td>0.191910</td>\n",
       "      <td>705.955015</td>\n",
       "    </tr>\n",
       "    <tr>\n",
       "      <th>15</th>\n",
       "      <td>0.218587</td>\n",
       "      <td>606.942376</td>\n",
       "    </tr>\n",
       "  </tbody>\n",
       "</table>\n",
       "</div>"
      ],
      "text/plain": [
       "         apn         npa\n",
       "1   0.188904  756.629070\n",
       "5   0.165289  805.255000\n",
       "7   0.192693  700.234804\n",
       "11  0.191910  705.955015\n",
       "15  0.218587  606.942376"
      ]
     },
     "execution_count": 102,
     "metadata": {},
     "output_type": "execute_result"
    }
   ],
   "source": [
    "\n",
    "datatrain.head()"
   ]
  },
  {
   "cell_type": "code",
   "execution_count": 103,
   "metadata": {},
   "outputs": [
    {
     "name": "stdout",
     "output_type": "stream",
     "text": [
      "Centers found by scikit-learn:\n",
      "[[8.26751954e-02 4.50967410e+03]\n",
      " [1.17854628e-01 2.70447287e+03]\n",
      " [1.58387862e-01 1.69391062e+03]\n",
      " [2.06431469e-01 1.09967754e+03]]\n"
     ]
    },
    {
     "data": {
      "image/png": "[encoded data removed]",
      "text/plain": [
       "<matplotlib.figure.Figure at 0x1b146d661d0>"
      ]
     },
     "metadata": {},
     "output_type": "display_data"
    }
   ],
   "source": [
    "\n",
    "n = 4\n",
    "from sklearn.cluster import KMeans\n",
    "import numpy as np\n",
    "kmeans = KMeans(n_clusters=n, init='random', n_init=10, max_iter=300, tol=0.0001, precompute_distances='auto', verbose=0, random_state=None, copy_x=True, n_jobs=1, algorithm='auto').fit(datatrain)\n",
    "print ('Centers found by scikit-learn:')\n",
    "print (kmeans.cluster_centers_)\n",
    "pred_label = kmeans.predict(datatrain)\n",
    "datam['label'] = pred_label\n",
    "for i in range(n):\n",
    "    plt.plot( 'age', 'net', data=datam[datam.label == i], linestyle='none', marker='o')\n",
    "\n",
    "plt.show()"
   ]
  },
  {
   "cell_type": "markdown",
   "metadata": {},
   "source": [
    "Kết quả nhân được khá ỏn với màu cam là những người có thể lực khỏe, Xanh lục: trung bình khá, màu đỏ: trung bình, Xanh lam: thể lực không tốt."
   ]
  },
  {
   "cell_type": "code",
   "execution_count": null,
   "metadata": {
    "scrolled": true
   },
   "outputs": [],
   "source": []
  },
  {
   "cell_type": "code",
   "execution_count": 64,
   "metadata": {
    "scrolled": true
   },
   "outputs": [
    {
     "name": "stdout",
     "output_type": "stream",
     "text": [
      "Fitting 3 folds for each of 100 candidates, totalling 300 fits\n"
     ]
    },
    {
     "name": "stderr",
     "output_type": "stream",
     "text": [
      "[Parallel(n_jobs=-1)]: Done  33 tasks      | elapsed:   41.4s\n",
      "[Parallel(n_jobs=-1)]: Done 154 tasks      | elapsed:  2.6min\n",
      "[Parallel(n_jobs=-1)]: Done 300 out of 300 | elapsed:  5.9min finished\n"
     ]
    },
    {
     "data": {
      "text/plain": [
       "RandomizedSearchCV(cv=3, error_score='raise',\n",
       "          estimator=KMeans(algorithm='auto', copy_x=True, init='k-means++', max_iter=300,\n",
       "    n_clusters=4, n_init=10, n_jobs=1, precompute_distances='auto',\n",
       "    random_state=None, tol=0.0001, verbose=0),\n",
       "          fit_params=None, iid=True, n_iter=100, n_jobs=-1,\n",
       "          param_distributions={'n_init': [20, 40, 60, 80, 100, 120, 140, 160, 180, 200], 'max_iter': [10, 20, 30, 40, 50, 60, 70, 80, 90, 100, 110], 'tol': [0.1, 0.01, 0.001, 0.0001, 1e-05], 'precompute_distances': [True, False, 'auto']},\n",
       "          pre_dispatch='2*n_jobs', random_state=42, refit=True,\n",
       "          return_train_score='warn', scoring=None, verbose=2)"
      ]
     },
     "execution_count": 64,
     "metadata": {},
     "output_type": "execute_result"
    }
   ],
   "source": [
    "import numpy as np\n",
    "from sklearn.model_selection import RandomizedSearchCV\n",
    "\n",
    "n_init = [int(x) for x in np.linspace(start = 20, stop = 200, num = 10)]\n",
    "# Number of features to consider at every split\n",
    "max_features = ['auto', 'sqrt']\n",
    "# Maximum number of levels in tree\n",
    "max_iter = [int(x) for x in np.linspace(10, 110, num = 11)]\n",
    "tol = [0.1,0.01, 0.001, 0.0001, 0.00001]\n",
    "precompute_distances = [True, False,'auto']\n",
    "# Create the random grid\n",
    "random_grid = {'n_init': n_init,\n",
    "               'max_iter': max_iter,\n",
    "               'tol': tol,\n",
    "               'precompute_distances': precompute_distances,\n",
    "              }\n",
    "\n",
    "kmeans = KMeans(n_clusters=4)\n",
    "# Random search of parameters, using 3 fold cross validation, \n",
    "# search across 100 different combinations, and use all available cores\n",
    "rf_random = RandomizedSearchCV(estimator = kmeans, param_distributions = random_grid, n_iter = 100, cv = 3, verbose=2, random_state=42, n_jobs = -1)\n",
    "# Fit the random search model\n",
    "rf_random.fit(datatrain)"
   ]
  },
  {
   "cell_type": "code",
   "execution_count": 65,
   "metadata": {},
   "outputs": [
    {
     "name": "stdout",
     "output_type": "stream",
     "text": [
      "{'tol': 0.1, 'precompute_distances': True, 'n_init': 20, 'max_iter': 30}\n"
     ]
    }
   ],
   "source": [
    "print(rf_random.best_params_)"
   ]
  },
  {
   "cell_type": "code",
   "execution_count": 66,
   "metadata": {
    "scrolled": true
   },
   "outputs": [
    {
     "name": "stdout",
     "output_type": "stream",
     "text": [
      "Centers found by scikit-learn:\n",
      "[[2.05260629e-01 1.11149994e+03]\n",
      " [1.15798655e-01 2.78379342e+03]\n",
      " [1.55660324e-01 1.74279886e+03]\n",
      " [8.23439203e-02 4.53236793e+03]]\n"
     ]
    },
    {
     "data": {
      "image/png": "[encoded data removed]",
      "text/plain": [
       "<matplotlib.figure.Figure at 0x1b144a93f28>"
      ]
     },
     "metadata": {},
     "output_type": "display_data"
    }
   ],
   "source": [
    "n = 4\n",
    "from sklearn.cluster import KMeans\n",
    "import numpy as np\n",
    "kmeans = KMeans(n_clusters=n, n_init=100, max_iter=10, tol=0.1, precompute_distances=False, verbose=0, random_state=None, copy_x=True, n_jobs=1, algorithm='auto').fit(datatrain)\n",
    "print ('Centers found by scikit-learn:')\n",
    "print (kmeans.cluster_centers_)\n",
    "pred_label = kmeans.predict(datatrain)\n",
    "datam['label'] = pred_label\n",
    "for i in range(n):\n",
    "    plt.plot( 'age', 'net', data=datam[datam.label == i], linestyle='none', marker='o')\n",
    "\n",
    "plt.show()"
   ]
  },
  {
   "cell_type": "code",
   "execution_count": 67,
   "metadata": {
    "collapsed": true
   },
   "outputs": [],
   "source": [
    "# kết quả nhận được tốt hơn, không có người có thể lực kém ở tuổi lớn hơn 60"
   ]
  },
  {
   "cell_type": "code",
   "execution_count": 68,
   "metadata": {},
   "outputs": [
    {
     "data": {
      "text/plain": [
       "'from sklearn.model_selection import GridSearchCV\\nfrom sklearn import svm\\n\\ngrid_search = GridSearchCV(KMeans(n_clusters=4), random_grid, cv=10)\\ngrid_search.fit(datatrain)\\ngrid_search.best_params_\\nprint(grid_search.best_params_)'"
      ]
     },
     "execution_count": 68,
     "metadata": {},
     "output_type": "execute_result"
    }
   ],
   "source": [
    "\"\"\"from sklearn.model_selection import GridSearchCV\n",
    "from sklearn import svm\n",
    "\n",
    "grid_search = GridSearchCV(KMeans(n_clusters=4), random_grid, cv=10)\n",
    "grid_search.fit(datatrain)\n",
    "grid_search.best_params_\n",
    "print(grid_search.best_params_)\"\"\""
   ]
  },
  {
   "cell_type": "code",
   "execution_count": 72,
   "metadata": {
    "scrolled": true
   },
   "outputs": [
    {
     "name": "stdout",
     "output_type": "stream",
     "text": [
      "Centers found by scikit-learn:\n",
      "[[1.00562108e-01 3.19925901e+03]\n",
      " [1.31582895e-01 2.10942888e+03]\n",
      " [7.33444938e-02 5.04960659e+03]\n",
      " [1.74822379e-01 1.43635890e+03]]\n"
     ]
    },
    {
     "data": {
      "image/png": "[encoded data removed]",
      "text/plain": [
       "<matplotlib.figure.Figure at 0x1b144af3908>"
      ]
     },
     "metadata": {},
     "output_type": "display_data"
    }
   ],
   "source": [
    "# phân loại cho dữ liệu là nữ:\n",
    "dataF = data.drop(data[data.gender == \"M\"].index)\n",
    "dataF = dataF.drop(dataF[dataF.bib.str.contains(\"W\")==True].index)\n",
    "cols = ['apn','npa']\n",
    "datatrain = dataF[cols]\n",
    "n = 4\n",
    "from sklearn.cluster import KMeans\n",
    "import numpy as np\n",
    "kmeans = KMeans(n_clusters=n, init='random', n_init=10, max_iter=300, tol=0.0001, precompute_distances='auto', verbose=0, random_state=None, copy_x=True, n_jobs=1, algorithm='auto').fit(datatrain)\n",
    "print ('Centers found by scikit-learn:')\n",
    "print (kmeans.cluster_centers_)\n",
    "pred_label = kmeans.predict(datatrain)\n",
    "dataF['label'] = pred_label\n",
    "for i in range(n):\n",
    "    plt.plot( 'age', 'net', data=dataF[dataF.label == i], linestyle='none', marker='o')\n",
    "\n",
    "plt.show()"
   ]
  },
  {
   "cell_type": "code",
   "execution_count": 77,
   "metadata": {},
   "outputs": [
    {
     "name": "stdout",
     "output_type": "stream",
     "text": [
      "Centers found by scikit-learn:\n",
      "[[ 32.75        96.4675    ]\n",
      " [ 35.42857143 154.71571429]]\n"
     ]
    },
    {
     "name": "stderr",
     "output_type": "stream",
     "text": [
      "C:\\ProgramData\\Anaconda3\\lib\\site-packages\\ipykernel_launcher.py:12: SettingWithCopyWarning: \n",
      "A value is trying to be set on a copy of a slice from a DataFrame.\n",
      "Try using .loc[row_indexer,col_indexer] = value instead\n",
      "\n",
      "See the caveats in the documentation: http://pandas.pydata.org/pandas-docs/stable/indexing.html#indexing-view-versus-copy\n",
      "  if sys.path[0] == '':\n"
     ]
    },
    {
     "data": {
      "image/png": "[encoded data removed]",
      "text/plain": [
       "<matplotlib.figure.Figure at 0x1b144aa9a20>"
      ]
     },
     "metadata": {},
     "output_type": "display_data"
    }
   ],
   "source": [
    "# phân loại cho dữ liệu là người khuyết tật:\n",
    "dataw = data[data.bib.str.contains(\"W\")==True]\n",
    "cols = ['age','net']\n",
    "datatrain = dataw[cols]\n",
    "n = 2\n",
    "from sklearn.cluster import KMeans\n",
    "import numpy as np\n",
    "kmeans = KMeans(n_clusters=n, init='random', n_init=10, max_iter=300, tol=0.0001, precompute_distances='auto', verbose=0, random_state=None, copy_x=True, n_jobs=1, algorithm='auto').fit(datatrain)\n",
    "print ('Centers found by scikit-learn:')\n",
    "print (kmeans.cluster_centers_)\n",
    "pred_label = kmeans.predict(datatrain)\n",
    "dataw['label'] = pred_label\n",
    "for i in range(n):\n",
    "    plt.plot( 'age', 'net', data=dataw[dataw.label == i], linestyle='none', marker='o')\n",
    "\n",
    "plt.show()"
   ]
  }
 ],
 "metadata": {
  "kernelspec": {
   "display_name": "Python 3",
   "language": "python",
   "name": "python3"
  },
  "language_info": {
   "codemirror_mode": {
    "name": "ipython",
    "version": 3
   },
   "file_extension": ".py",
   "mimetype": "text/x-python",
   "name": "python",
   "nbconvert_exporter": "python",
   "pygments_lexer": "ipython3",
   "version": "3.6.3"
  }
 },
 "nbformat": 4,
 "nbformat_minor": 2
}
